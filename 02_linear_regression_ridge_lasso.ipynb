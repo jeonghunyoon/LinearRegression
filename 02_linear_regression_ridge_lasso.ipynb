{
 "cells": [
  {
   "cell_type": "markdown",
   "metadata": {},
   "source": [
    "**모델의 과적합을 피하기 위한 방법**에는,\n",
    "- 계수 페널라이즈드 회귀 (Coefficient penalized regression) 이 있다."
   ]
  },
  {
   "cell_type": "markdown",
   "metadata": {},
   "source": [
    "**How to?**\n",
    "- training set과 test set의 비율은 전체 데이터를 기준으로 7:3의 비율로 나눌 것이다.\n",
    "- training 은, SK-learn의 Ridge linear regression을 사용할 것이다.\n",
    "- training 후, 모델의 성능을 측정하기 위하여 RMSE를 사용할 것이다. (Root mean squared error)"
   ]
  },
  {
   "cell_type": "markdown",
   "metadata": {},
   "source": [
    "### 필요한 라이브러리를 임포트한다."
   ]
  },
  {
   "cell_type": "code",
   "execution_count": 1,
   "metadata": {
    "collapsed": false
   },
   "outputs": [],
   "source": [
    "from urllib2 import urlopen\n",
    "from sklearn.model_selection import train_test_split\n",
    "from sklearn import linear_model\n",
    "import numpy as np\n",
    "import matplotlib.pyplot as plt"
   ]
  },
  {
   "cell_type": "markdown",
   "metadata": {},
   "source": [
    "### (1) 데이터를 load 한다. training set과 test set의 비율은 7:3 이다."
   ]
  },
  {
   "cell_type": "code",
   "execution_count": 2,
   "metadata": {
    "collapsed": true
   },
   "outputs": [],
   "source": [
    "url = \"http://archive.ics.uci.edu/ml/machine-learning-databases/wine-quality/winequality-white.csv\"\n",
    "data = urlopen(url)\n",
    "x_data = []\n",
    "y_data = []\n",
    "title = []\n",
    "first_line = True\n",
    "\n",
    "for line in data.readlines():\n",
    "    if first_line:\n",
    "        title = line.strip().split(\";\")\n",
    "        first_line = False\n",
    "    else:\n",
    "        tokens = line.strip().split(\";\")\n",
    "        # label 데이터\n",
    "        y_data.append(float(tokens[-1]))\n",
    "        del (tokens[-1])\n",
    "        # feature vector\n",
    "        x_data.append(map(float, tokens))"
   ]
  },
  {
   "cell_type": "code",
   "execution_count": 3,
   "metadata": {
    "collapsed": true
   },
   "outputs": [],
   "source": [
    "# training data : test data = 7:3\n",
    "x_train, x_test, y_train, y_test = train_test_split(x_data, y_data, test_size=0.3)"
   ]
  },
  {
   "cell_type": "code",
   "execution_count": 4,
   "metadata": {
    "collapsed": false
   },
   "outputs": [
    {
     "data": {
      "text/plain": [
       "[[6.4, 0.37, 0.2, 5.6, 0.117, 61.0, 183.0, 0.99459, 3.24, 0.43, 9.5],\n",
       " [7.0, 0.14, 0.49, 5.9, 0.053, 22.0, 118.0, 0.9954, 3.36, 0.36, 9.4],\n",
       " [7.3, 0.15, 0.4, 2.0, 0.05, 24.0, 92.0, 0.9932, 3.14, 0.45, 10.5],\n",
       " [7.9, 0.21, 0.39, 2.0, 0.057, 21.0, 138.0, 0.99176, 3.05, 0.52, 10.9],\n",
       " [6.4, 0.26, 0.24, 6.4, 0.04, 27.0, 124.0, 0.9903, 3.22, 0.49, 12.6],\n",
       " [5.9, 0.19, 0.21, 1.7, 0.045, 57.0, 135.0, 0.99341, 3.32, 0.44, 9.5],\n",
       " [7.0, 0.15, 0.28, 14.7, 0.051, 29.0, 149.0, 0.99792, 2.96, 0.39, 9.0],\n",
       " [6.4, 0.105, 0.29, 1.1, 0.035, 44.0, 140.0, 0.99142, 3.17, 0.55, 10.7],\n",
       " [7.2, 0.22, 0.35, 5.5, 0.054, 37.0, 183.0, 0.99474, 3.08, 0.5, 10.3],\n",
       " [7.0, 0.21, 0.37, 7.2, 0.042, 36.0, 167.0, 0.9958, 3.26, 0.56, 9.8]]"
      ]
     },
     "execution_count": 4,
     "metadata": {},
     "output_type": "execute_result"
    }
   ],
   "source": [
    "x_train[:10]"
   ]
  },
  {
   "cell_type": "code",
   "execution_count": 5,
   "metadata": {
    "collapsed": false
   },
   "outputs": [
    {
     "data": {
      "text/plain": [
       "[5.0, 6.0, 5.0, 5.0, 7.0, 5.0, 7.0, 7.0, 5.0, 6.0]"
      ]
     },
     "execution_count": 5,
     "metadata": {},
     "output_type": "execute_result"
    }
   ],
   "source": [
    "y_train[:10]"
   ]
  },
  {
   "cell_type": "markdown",
   "metadata": {},
   "source": [
    "### (2) ridge model training을 한다."
   ]
  },
  {
   "cell_type": "code",
   "execution_count": 6,
   "metadata": {
    "collapsed": true
   },
   "outputs": [],
   "source": [
    "alpha_list = [0.1**i for i in [0, 1, 2, 3, 4, 5, 6]]"
   ]
  },
  {
   "cell_type": "code",
   "execution_count": 7,
   "metadata": {
    "collapsed": false
   },
   "outputs": [],
   "source": [
    "# ridge regression 에서 penalty 의 scale 을 조정하는 coefficient. \n",
    "# 값이 작을수록 ordinary 선형 회귀와 동일해진다.\n",
    "ridge_model_list = []\n",
    "\n",
    "for alpha in alpha_list:\n",
    "    ridge_model = linear_model.Ridge(alpha=alpha)\n",
    "    ridge_model.fit(x_train, y_train)\n",
    "    ridge_model_list.append(ridge_model)"
   ]
  },
  {
   "cell_type": "markdown",
   "metadata": {},
   "source": [
    "### (3) lasso model training을 한다."
   ]
  },
  {
   "cell_type": "code",
   "execution_count": 8,
   "metadata": {
    "collapsed": true
   },
   "outputs": [],
   "source": [
    "# lasso regression 에서 penalty 의 scale 을 조정하는 coefficient. \n",
    "# 값이 작을수록 ordinary 선형 회귀와 동일해진다.\n",
    "lasso_model_list = []\n",
    "\n",
    "for alpha in alpha_list:\n",
    "    lasso_model = linear_model.Lasso(alpha=alpha)\n",
    "    lasso_model.fit(x_train, y_train)\n",
    "    lasso_model_list.append(lasso_model)"
   ]
  },
  {
   "cell_type": "markdown",
   "metadata": {},
   "source": [
    "### (4) ridge모델의 rmse를 구해보자"
   ]
  },
  {
   "cell_type": "code",
   "execution_count": 9,
   "metadata": {
    "collapsed": false
   },
   "outputs": [
    {
     "name": "stdout",
     "output_type": "stream",
     "text": [
      "('alpha : ', 1.0, ', rmse : ', 0.76384066631088232)\n",
      "('alpha : ', 0.1, ', rmse : ', 0.76382917615128632)\n",
      "('alpha : ', 0.010000000000000002, ', rmse : ', 0.76311572782729808)\n",
      "('alpha : ', 0.0010000000000000002, ', rmse : ', 0.76023953218022111)\n",
      "('alpha : ', 0.00010000000000000002, ', rmse : ', 0.75852717292871175)\n",
      "('alpha : ', 1.0000000000000003e-05, ', rmse : ', 0.75828564962956757)\n",
      "('alpha : ', 1.0000000000000004e-06, ', rmse : ', 0.75826073528696047)\n"
     ]
    }
   ],
   "source": [
    "# 모델의 성능을 측정하기 위해서, RMSE를 사용한다.\n",
    "ridge_rmse_list = []\n",
    "\n",
    "for model in ridge_model_list:\n",
    "    # RMSE를 계산한다.\n",
    "    error_vector = model.predict(x_test) - y_test\n",
    "    mse = sum([error**2 for error in error_vector]) / len(error_vector)\n",
    "    ridge_rmse_list.append(np.sqrt(mse))\n",
    "\n",
    "# 결과를 출력\n",
    "for i in range(len(ridge_rmse_list)):\n",
    "    print(\"alpha : \", alpha_list[i], \", rmse : \", ridge_rmse_list[i])"
   ]
  },
  {
   "cell_type": "markdown",
   "metadata": {},
   "source": [
    "### (5) lasso모델의 rmse를 구해보자"
   ]
  },
  {
   "cell_type": "code",
   "execution_count": 10,
   "metadata": {
    "collapsed": false
   },
   "outputs": [
    {
     "name": "stdout",
     "output_type": "stream",
     "text": [
      "('alpha : ', 1.0, ', rmse : ', 0.8676119495835477)\n",
      "('alpha : ', 0.1, ', rmse : ', 0.79863914081638376)\n",
      "('alpha : ', 0.010000000000000002, ', rmse : ', 0.77551381094380478)\n",
      "('alpha : ', 0.0010000000000000002, ', rmse : ', 0.7636671701610751)\n",
      "('alpha : ', 0.00010000000000000002, ', rmse : ', 0.76378164281267447)\n",
      "('alpha : ', 1.0000000000000003e-05, ', rmse : ', 0.75905152156396816)\n",
      "('alpha : ', 1.0000000000000004e-06, ', rmse : ', 0.75832902382332201)\n"
     ]
    }
   ],
   "source": [
    "lasso_rmse_list = []\n",
    "\n",
    "for model in lasso_model_list:\n",
    "    # RMSE를 계산한다.\n",
    "    error_vector = model.predict(x_test) - y_test\n",
    "    mse = sum([error**2 for error in error_vector]) / len(error_vector)\n",
    "    lasso_rmse_list.append(np.sqrt(mse))\n",
    "\n",
    "# 결과를 출력\n",
    "for i in range(len(lasso_rmse_list)):\n",
    "    print(\"alpha : \", alpha_list[i], \", rmse : \", lasso_rmse_list[i])"
   ]
  },
  {
   "cell_type": "markdown",
   "metadata": {},
   "source": [
    "### (6) linear regression model training 한다."
   ]
  },
  {
   "cell_type": "code",
   "execution_count": 11,
   "metadata": {
    "collapsed": false
   },
   "outputs": [
    {
     "name": "stdout",
     "output_type": "stream",
     "text": [
      "('linear regression : ', 0.75825795879253666)\n"
     ]
    }
   ],
   "source": [
    "# linear model training\n",
    "lin_model = linear_model.LinearRegression()\n",
    "lin_model.fit(x_train, y_train)\n",
    "\n",
    "# RMSE 측정\n",
    "lin_error = lin_model.predict(x_test) - y_test\n",
    "mse = sum([error**2 for error in lin_error]) / len(lin_error)\n",
    "rmse = np.sqrt(mse)\n",
    "\n",
    "print (\"linear regression : \", rmse)"
   ]
  },
  {
   "cell_type": "markdown",
   "metadata": {},
   "source": [
    "### (7) plotting을 해보자"
   ]
  },
  {
   "cell_type": "code",
   "execution_count": 14,
   "metadata": {
    "collapsed": false
   },
   "outputs": [
    {
     "data": {
      "text/plain": [
       "[<matplotlib.lines.Line2D at 0x1a15b21250>]"
      ]
     },
     "execution_count": 14,
     "metadata": {},
     "output_type": "execute_result"
    },
    {
     "data": {
      "image/png": "[encoded data removed]",
      "text/plain": [
       "<matplotlib.figure.Figure at 0x1a15b213d0>"
      ]
     },
     "metadata": {},
     "output_type": "display_data"
    }
   ],
   "source": [
    "%matplotlib inline\n",
    "\n",
    "import matplotlib as mpl\n",
    "mpl.rcParams.update({'font.size': 22, 'figure.figsize': (15, 15)})\n",
    "\n",
    "x_axis = range(len(ridge_model_list))\n",
    "\n",
    "f, axarr = plt.subplots(2, sharex=True)\n",
    "axarr[0].set_title('RMSE')\n",
    "\n",
    "# 각각 모델을 플로팅해보자.\n",
    "axarr[0].plot(x_axis, ridge_rmse_list)\n",
    "axarr[1].plot(x_axis, lasso_rmse_list)"
   ]
  }
 ],
 "metadata": {
  "anaconda-cloud": {},
  "kernelspec": {
   "display_name": "Python [conda env:anaconda]",
   "language": "python",
   "name": "conda-env-anaconda-py"
  },
  "language_info": {
   "codemirror_mode": {
    "name": "ipython",
    "version": 2
   },
   "file_extension": ".py",
   "mimetype": "text/x-python",
   "name": "python",
   "nbconvert_exporter": "python",
   "pygments_lexer": "ipython2",
   "version": "2.7.12"
  }
 },
 "nbformat": 4,
 "nbformat_minor": 1
}

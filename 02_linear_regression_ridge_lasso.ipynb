{
 "cells": [
  {
   "cell_type": "markdown",
   "metadata": {},
   "source": [
    "**모델의 과적합을 피하기 위한 방법**에는,\n",
    "- 계수 페널라이즈드 회귀 (Coefficient penalized regression) 이 있다."
   ]
  },
  {
   "cell_type": "markdown",
   "metadata": {},
   "source": [
    "**How to?**\n",
    "- training set과 test set의 비율은 전체 데이터를 기준으로 7:3의 비율로 나눌 것이다.\n",
    "- training 은, SK-learn의 Ridge linear regression을 사용할 것이다.\n",
    "- training 후, 모델의 성능을 측정하기 위하여 RMSE를 사용할 것이다. (Root mean squared error)"
   ]
  },
  {
   "cell_type": "markdown",
   "metadata": {},
   "source": [
    "### 필요한 라이브러리를 임포트한다."
   ]
  },
  {
   "cell_type": "code",
   "execution_count": 2,
   "metadata": {
    "collapsed": false
   },
   "outputs": [],
   "source": [
    "from urllib2 import urlopen\n",
    "from sklearn.model_selection import train_test_split\n",
    "from sklearn import linear_model\n",
    "import numpy as np\n",
    "import matplotlib.pyplot as plt"
   ]
  },
  {
   "cell_type": "markdown",
   "metadata": {},
   "source": [
    "### (1) 데이터를 load 한다. training set과 test set의 비율은 7:3 이다."
   ]
  },
  {
   "cell_type": "code",
   "execution_count": 3,
   "metadata": {
    "collapsed": true
   },
   "outputs": [],
   "source": [
    "url = \"http://archive.ics.uci.edu/ml/machine-learning-databases/wine-quality/winequality-white.csv\"\n",
    "data = urlopen(url)\n",
    "x_data = []\n",
    "y_data = []\n",
    "title = []\n",
    "first_line = True\n",
    "\n",
    "for line in data.readlines():\n",
    "    if first_line:\n",
    "        title = line.strip().split(\";\")\n",
    "        first_line = False\n",
    "    else:\n",
    "        tokens = line.strip().split(\";\")\n",
    "        # label 데이터\n",
    "        y_data.append(float(tokens[-1]))\n",
    "        del (tokens[-1])\n",
    "        # feature vector\n",
    "        x_data.append(map(float, tokens))"
   ]
  },
  {
   "cell_type": "code",
   "execution_count": 4,
   "metadata": {
    "collapsed": true
   },
   "outputs": [],
   "source": [
    "# training data : test data = 7:3\n",
    "x_train, x_test, y_train, y_test = train_test_split(x_data, y_data, test_size=0.3)"
   ]
  },
  {
   "cell_type": "code",
   "execution_count": 10,
   "metadata": {
    "collapsed": false
   },
   "outputs": [
    {
     "data": {
      "text/plain": [
       "[[7.6, 0.19, 0.41, 1.1, 0.04, 38.0, 143.0, 0.9907, 2.92, 0.42, 11.4],\n",
       " [5.0, 0.27, 0.32, 4.5, 0.032, 58.0, 178.0, 0.98956, 3.45, 0.31, 12.6],\n",
       " [7.6, 0.48, 0.31, 9.4, 0.046, 6.0, 194.0, 0.99714, 3.07, 0.61, 9.4],\n",
       " [6.2, 0.24, 0.29, 13.3, 0.039, 49.0, 130.0, 0.9952, 3.33, 0.46, 11.0],\n",
       " [6.7, 0.26, 0.49, 8.3, 0.047, 54.0, 191.0, 0.9954, 3.23, 0.4, 10.3],\n",
       " [7.3, 0.23, 0.34, 9.3, 0.052, 19.0, 86.0, 0.99574, 3.04, 0.56, 10.0],\n",
       " [6.9, 0.23, 0.32, 16.4, 0.045, 62.0, 153.0, 0.9972, 3.22, 0.42, 10.5],\n",
       " [7.9, 0.27, 0.27, 1.7, 0.034, 25.0, 122.0, 0.99088, 2.97, 0.51, 11.9],\n",
       " [7.2, 0.08, 0.49, 1.3, 0.05, 18.0, 148.0, 0.9945, 3.46, 0.44, 10.2],\n",
       " [5.9, 0.37, 0.1, 1.6, 0.057, 39.0, 128.0, 0.9924, 3.24, 0.48, 10.1]]"
      ]
     },
     "execution_count": 10,
     "metadata": {},
     "output_type": "execute_result"
    }
   ],
   "source": [
    "x_train[:10]"
   ]
  },
  {
   "cell_type": "code",
   "execution_count": 11,
   "metadata": {
    "collapsed": false
   },
   "outputs": [
    {
     "data": {
      "text/plain": [
       "[5.0, 7.0, 5.0, 8.0, 6.0, 5.0, 5.0, 6.0, 6.0, 5.0]"
      ]
     },
     "execution_count": 11,
     "metadata": {},
     "output_type": "execute_result"
    }
   ],
   "source": [
    "y_train[:10]"
   ]
  },
  {
   "cell_type": "markdown",
   "metadata": {},
   "source": [
    "### (2) ridge model training을 한다."
   ]
  },
  {
   "cell_type": "code",
   "execution_count": 6,
   "metadata": {
    "collapsed": true
   },
   "outputs": [],
   "source": [
    "alpha_list = [0.1**i for i in [0, 1, 2, 3, 4, 5, 6]]"
   ]
  },
  {
   "cell_type": "code",
   "execution_count": 7,
   "metadata": {
    "collapsed": false
   },
   "outputs": [],
   "source": [
    "# ridge regression 에서 penalty 의 scale 을 조정하는 coefficient. \n",
    "# 값이 작을수록 ordinary 선형 회귀와 동일해진다.\n",
    "ridge_model_list = []\n",
    "\n",
    "for alpha in alpha_list:\n",
    "    ridge_model = linear_model.Ridge(alpha=alpha)\n",
    "    ridge_model.fit(x_train, y_train)\n",
    "    ridge_model_list.append(ridge_model)"
   ]
  },
  {
   "cell_type": "markdown",
   "metadata": {},
   "source": [
    "### (3) lasso model training을 한다."
   ]
  },
  {
   "cell_type": "code",
   "execution_count": null,
   "metadata": {
    "collapsed": true
   },
   "outputs": [],
   "source": [
    "# lasso regression 에서 penalty 의 scale 을 조정하는 coefficient. \n",
    "# 값이 작을수록 ordinary 선형 회귀와 동일해진다.\n",
    "lasso_model_list = []\n",
    "\n",
    "for alpha in alpha_list:\n",
    "    lasso_model = linear_model.Lasso(alpha=alpha)\n",
    "    lasso_model.fit(x_train, y_train)\n",
    "    lasso_model_list.append(lasso_model)"
   ]
  },
  {
   "cell_type": "markdown",
   "metadata": {},
   "source": [
    "### (4) ridge모델의 rmse를 구해보자"
   ]
  },
  {
   "cell_type": "code",
   "execution_count": 19,
   "metadata": {
    "collapsed": false
   },
   "outputs": [
    {
     "name": "stdout",
     "output_type": "stream",
     "text": [
      "('alpha : ', 1.0, ', rmse : ', 0.76113290840377734)\n",
      "('alpha : ', 0.1, ', rmse : ', 0.76088386774249561)\n",
      "('alpha : ', 0.010000000000000002, ', rmse : ', 0.76024480161541852)\n",
      "('alpha : ', 0.0010000000000000002, ', rmse : ', 0.75816221942491102)\n",
      "('alpha : ', 0.00010000000000000002, ', rmse : ', 0.75735022366212668)\n",
      "('alpha : ', 1.0000000000000003e-05, ', rmse : ', 0.7572956115813807)\n",
      "('alpha : ', 1.0000000000000004e-06, ', rmse : ', 0.75729137405550617)\n"
     ]
    }
   ],
   "source": [
    "# 모델의 성능을 측정하기 위해서, RMSE를 사용한다.\n",
    "ridge_rmse_list = []\n",
    "\n",
    "for model in ridge_model_list:\n",
    "    # RMSE를 계산한다.\n",
    "    error_vector = model.predict(x_test) - y_test\n",
    "    mse = sum([error**2 for error in error_vector]) / len(error_vector)\n",
    "    ridge_rmse_list.append(np.sqrt(mse))\n",
    "\n",
    "# 결과를 출력\n",
    "for i in range(len(ridge_rmse_list)):\n",
    "    print(\"alpha : \", alpha_list[i], \", rmse : \", ridge_rmse_list[i])"
   ]
  },
  {
   "cell_type": "markdown",
   "metadata": {},
   "source": [
    "### (5) lasso모델의 rmse를 구해보자"
   ]
  },
  {
   "cell_type": "code",
   "execution_count": 21,
   "metadata": {
    "collapsed": false
   },
   "outputs": [
    {
     "name": "stdout",
     "output_type": "stream",
     "text": [
      "('alpha : ', 1.0, ', rmse : ', 0.86825047739154915)\n",
      "('alpha : ', 0.1, ', rmse : ', 0.79674416677251558)\n",
      "('alpha : ', 0.010000000000000002, ', rmse : ', 0.77252892236926074)\n",
      "('alpha : ', 0.0010000000000000002, ', rmse : ', 0.76149816435972084)\n",
      "('alpha : ', 0.00010000000000000002, ', rmse : ', 0.76099132433298311)\n",
      "('alpha : ', 1.0000000000000003e-05, ', rmse : ', 0.75751045691247731)\n",
      "('alpha : ', 1.0000000000000004e-06, ', rmse : ', 0.75730285450399437)\n"
     ]
    }
   ],
   "source": [
    "lasso_rmse_list = []\n",
    "\n",
    "for model in lasso_model_list:\n",
    "    # RMSE를 계산한다.\n",
    "    error_vector = model.predict(x_test) - y_test\n",
    "    mse = sum([error**2 for error in error_vector]) / len(error_vector)\n",
    "    lasso_rmse_list.append(np.sqrt(mse))\n",
    "\n",
    "# 결과를 출력\n",
    "for i in range(len(lasso_rmse_list)):\n",
    "    print(\"alpha : \", alpha_list[i], \", rmse : \", lasso_rmse_list[i])"
   ]
  },
  {
   "cell_type": "markdown",
   "metadata": {},
   "source": [
    "### (6) linear regression model training 한다."
   ]
  },
  {
   "cell_type": "code",
   "execution_count": 22,
   "metadata": {
    "collapsed": false
   },
   "outputs": [
    {
     "name": "stdout",
     "output_type": "stream",
     "text": [
      "('linear regression : ', 0.75729091957625094)\n"
     ]
    }
   ],
   "source": [
    "# linear model training\n",
    "lin_model = linear_model.LinearRegression()\n",
    "lin_model.fit(x_train, y_train)\n",
    "\n",
    "# RMSE 측정\n",
    "lin_error = lin_model.predict(x_test) - y_test\n",
    "mse = sum([error**2 for error in lin_error]) / len(lin_error)\n",
    "rmse = np.sqrt(mse)\n",
    "\n",
    "print (\"linear regression : \", rmse)"
   ]
  },
  {
   "cell_type": "markdown",
   "metadata": {},
   "source": [
    "### (7) plotting을 해보자"
   ]
  },
  {
   "cell_type": "code",
   "execution_count": 38,
   "metadata": {
    "collapsed": false
   },
   "outputs": [
    {
     "data": {
      "text/plain": [
       "[<matplotlib.lines.Line2D at 0x1a1877f710>]"
      ]
     },
     "execution_count": 38,
     "metadata": {},
     "output_type": "execute_result"
    },
    {
     "data": {
      "image/png": "[encoded data removed]",
      "text/plain": [
       "<matplotlib.figure.Figure at 0x1a18317710>"
      ]
     },
     "metadata": {},
     "output_type": "display_data"
    }
   ],
   "source": [
    "%matplotlib inline\n",
    "\n",
    "import matplotlib as mpl\n",
    "mpl.rcParams['figure.figsize'] = (15,15)\n",
    "mpl.rcParams.update({'font.size': 22})\n",
    "\n",
    "x_axis = range(len(ridge_model_list))\n",
    "\n",
    "f, axarr = plt.subplots(2, sharex=True)\n",
    "axarr[0].set_title('RMSE')\n",
    "\n",
    "# 각각 모델을 플로팅해보자.\n",
    "axarr[0].plot(x_axis, ridge_rmse_list)\n",
    "axarr[1].plot(x_axis, lasso_rmse_list)"
   ]
  }
 ],
 "metadata": {
  "anaconda-cloud": {},
  "kernelspec": {
   "display_name": "Python [conda env:anaconda]",
   "language": "python",
   "name": "conda-env-anaconda-py"
  },
  "language_info": {
   "codemirror_mode": {
    "name": "ipython",
    "version": 2
   },
   "file_extension": ".py",
   "mimetype": "text/x-python",
   "name": "python",
   "nbconvert_exporter": "python",
   "pygments_lexer": "ipython2",
   "version": "2.7.12"
  }
 },
 "nbformat": 4,
 "nbformat_minor": 1
}

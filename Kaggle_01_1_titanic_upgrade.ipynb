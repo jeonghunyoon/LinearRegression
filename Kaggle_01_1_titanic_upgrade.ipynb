{
 "cells": [
  {
   "cell_type": "markdown",
   "metadata": {},
   "source": [
    "# Kaggle1. Titanic"
   ]
  },
  {
   "cell_type": "markdown",
   "metadata": {},
   "source": [
    "## 1. What is the problems?\n",
    "- Predict who are survived."
   ]
  },
  {
   "cell_type": "markdown",
   "metadata": {},
   "source": [
    "## 2. EDA"
   ]
  },
  {
   "cell_type": "markdown",
   "metadata": {},
   "source": [
    "### 2-1) Load the datasets"
   ]
  },
  {
   "cell_type": "code",
   "execution_count": 1,
   "metadata": {
    "collapsed": false
   },
   "outputs": [
    {
     "data": {
      "text/html": [
       "<div>\n",
       "<style scoped>\n",
       "    .dataframe tbody tr th:only-of-type {\n",
       "        vertical-align: middle;\n",
       "    }\n",
       "\n",
       "    .dataframe tbody tr th {\n",
       "        vertical-align: top;\n",
       "    }\n",
       "\n",
       "    .dataframe thead th {\n",
       "        text-align: right;\n",
       "    }\n",
       "</style>\n",
       "<table border=\"1\" class=\"dataframe\">\n",
       "  <thead>\n",
       "    <tr style=\"text-align: right;\">\n",
       "      <th></th>\n",
       "      <th>PassengerId</th>\n",
       "      <th>Survived</th>\n",
       "      <th>Pclass</th>\n",
       "      <th>Name</th>\n",
       "      <th>Sex</th>\n",
       "      <th>Age</th>\n",
       "      <th>SibSp</th>\n",
       "      <th>Parch</th>\n",
       "      <th>Ticket</th>\n",
       "      <th>Fare</th>\n",
       "      <th>Cabin</th>\n",
       "      <th>Embarked</th>\n",
       "    </tr>\n",
       "  </thead>\n",
       "  <tbody>\n",
       "    <tr>\n",
       "      <th>0</th>\n",
       "      <td>1</td>\n",
       "      <td>0</td>\n",
       "      <td>3</td>\n",
       "      <td>Braund, Mr. Owen Harris</td>\n",
       "      <td>male</td>\n",
       "      <td>22.0</td>\n",
       "      <td>1</td>\n",
       "      <td>0</td>\n",
       "      <td>A/5 21171</td>\n",
       "      <td>7.2500</td>\n",
       "      <td>NaN</td>\n",
       "      <td>S</td>\n",
       "    </tr>\n",
       "    <tr>\n",
       "      <th>1</th>\n",
       "      <td>2</td>\n",
       "      <td>1</td>\n",
       "      <td>1</td>\n",
       "      <td>Cumings, Mrs. John Bradley (Florence Briggs Th...</td>\n",
       "      <td>female</td>\n",
       "      <td>38.0</td>\n",
       "      <td>1</td>\n",
       "      <td>0</td>\n",
       "      <td>PC 17599</td>\n",
       "      <td>71.2833</td>\n",
       "      <td>C85</td>\n",
       "      <td>C</td>\n",
       "    </tr>\n",
       "    <tr>\n",
       "      <th>2</th>\n",
       "      <td>3</td>\n",
       "      <td>1</td>\n",
       "      <td>3</td>\n",
       "      <td>Heikkinen, Miss. Laina</td>\n",
       "      <td>female</td>\n",
       "      <td>26.0</td>\n",
       "      <td>0</td>\n",
       "      <td>0</td>\n",
       "      <td>STON/O2. 3101282</td>\n",
       "      <td>7.9250</td>\n",
       "      <td>NaN</td>\n",
       "      <td>S</td>\n",
       "    </tr>\n",
       "    <tr>\n",
       "      <th>3</th>\n",
       "      <td>4</td>\n",
       "      <td>1</td>\n",
       "      <td>1</td>\n",
       "      <td>Futrelle, Mrs. Jacques Heath (Lily May Peel)</td>\n",
       "      <td>female</td>\n",
       "      <td>35.0</td>\n",
       "      <td>1</td>\n",
       "      <td>0</td>\n",
       "      <td>113803</td>\n",
       "      <td>53.1000</td>\n",
       "      <td>C123</td>\n",
       "      <td>S</td>\n",
       "    </tr>\n",
       "    <tr>\n",
       "      <th>4</th>\n",
       "      <td>5</td>\n",
       "      <td>0</td>\n",
       "      <td>3</td>\n",
       "      <td>Allen, Mr. William Henry</td>\n",
       "      <td>male</td>\n",
       "      <td>35.0</td>\n",
       "      <td>0</td>\n",
       "      <td>0</td>\n",
       "      <td>373450</td>\n",
       "      <td>8.0500</td>\n",
       "      <td>NaN</td>\n",
       "      <td>S</td>\n",
       "    </tr>\n",
       "    <tr>\n",
       "      <th>5</th>\n",
       "      <td>6</td>\n",
       "      <td>0</td>\n",
       "      <td>3</td>\n",
       "      <td>Moran, Mr. James</td>\n",
       "      <td>male</td>\n",
       "      <td>NaN</td>\n",
       "      <td>0</td>\n",
       "      <td>0</td>\n",
       "      <td>330877</td>\n",
       "      <td>8.4583</td>\n",
       "      <td>NaN</td>\n",
       "      <td>Q</td>\n",
       "    </tr>\n",
       "    <tr>\n",
       "      <th>6</th>\n",
       "      <td>7</td>\n",
       "      <td>0</td>\n",
       "      <td>1</td>\n",
       "      <td>McCarthy, Mr. Timothy J</td>\n",
       "      <td>male</td>\n",
       "      <td>54.0</td>\n",
       "      <td>0</td>\n",
       "      <td>0</td>\n",
       "      <td>17463</td>\n",
       "      <td>51.8625</td>\n",
       "      <td>E46</td>\n",
       "      <td>S</td>\n",
       "    </tr>\n",
       "    <tr>\n",
       "      <th>7</th>\n",
       "      <td>8</td>\n",
       "      <td>0</td>\n",
       "      <td>3</td>\n",
       "      <td>Palsson, Master. Gosta Leonard</td>\n",
       "      <td>male</td>\n",
       "      <td>2.0</td>\n",
       "      <td>3</td>\n",
       "      <td>1</td>\n",
       "      <td>349909</td>\n",
       "      <td>21.0750</td>\n",
       "      <td>NaN</td>\n",
       "      <td>S</td>\n",
       "    </tr>\n",
       "    <tr>\n",
       "      <th>8</th>\n",
       "      <td>9</td>\n",
       "      <td>1</td>\n",
       "      <td>3</td>\n",
       "      <td>Johnson, Mrs. Oscar W (Elisabeth Vilhelmina Berg)</td>\n",
       "      <td>female</td>\n",
       "      <td>27.0</td>\n",
       "      <td>0</td>\n",
       "      <td>2</td>\n",
       "      <td>347742</td>\n",
       "      <td>11.1333</td>\n",
       "      <td>NaN</td>\n",
       "      <td>S</td>\n",
       "    </tr>\n",
       "    <tr>\n",
       "      <th>9</th>\n",
       "      <td>10</td>\n",
       "      <td>1</td>\n",
       "      <td>2</td>\n",
       "      <td>Nasser, Mrs. Nicholas (Adele Achem)</td>\n",
       "      <td>female</td>\n",
       "      <td>14.0</td>\n",
       "      <td>1</td>\n",
       "      <td>0</td>\n",
       "      <td>237736</td>\n",
       "      <td>30.0708</td>\n",
       "      <td>NaN</td>\n",
       "      <td>C</td>\n",
       "    </tr>\n",
       "  </tbody>\n",
       "</table>\n",
       "</div>"
      ],
      "text/plain": [
       "   PassengerId  Survived  Pclass  \\\n",
       "0            1         0       3   \n",
       "1            2         1       1   \n",
       "2            3         1       3   \n",
       "3            4         1       1   \n",
       "4            5         0       3   \n",
       "5            6         0       3   \n",
       "6            7         0       1   \n",
       "7            8         0       3   \n",
       "8            9         1       3   \n",
       "9           10         1       2   \n",
       "\n",
       "                                                Name     Sex   Age  SibSp  \\\n",
       "0                            Braund, Mr. Owen Harris    male  22.0      1   \n",
       "1  Cumings, Mrs. John Bradley (Florence Briggs Th...  female  38.0      1   \n",
       "2                             Heikkinen, Miss. Laina  female  26.0      0   \n",
       "3       Futrelle, Mrs. Jacques Heath (Lily May Peel)  female  35.0      1   \n",
       "4                           Allen, Mr. William Henry    male  35.0      0   \n",
       "5                                   Moran, Mr. James    male   NaN      0   \n",
       "6                            McCarthy, Mr. Timothy J    male  54.0      0   \n",
       "7                     Palsson, Master. Gosta Leonard    male   2.0      3   \n",
       "8  Johnson, Mrs. Oscar W (Elisabeth Vilhelmina Berg)  female  27.0      0   \n",
       "9                Nasser, Mrs. Nicholas (Adele Achem)  female  14.0      1   \n",
       "\n",
       "   Parch            Ticket     Fare Cabin Embarked  \n",
       "0      0         A/5 21171   7.2500   NaN        S  \n",
       "1      0          PC 17599  71.2833   C85        C  \n",
       "2      0  STON/O2. 3101282   7.9250   NaN        S  \n",
       "3      0            113803  53.1000  C123        S  \n",
       "4      0            373450   8.0500   NaN        S  \n",
       "5      0            330877   8.4583   NaN        Q  \n",
       "6      0             17463  51.8625   E46        S  \n",
       "7      1            349909  21.0750   NaN        S  \n",
       "8      2            347742  11.1333   NaN        S  \n",
       "9      0            237736  30.0708   NaN        C  "
      ]
     },
     "execution_count": 1,
     "metadata": {},
     "output_type": "execute_result"
    }
   ],
   "source": [
    "import pandas as pd\n",
    "import numpy as np\n",
    "\n",
    "train_set = pd.read_csv('./input/train.csv')\n",
    "train_set.head(10)"
   ]
  },
  {
   "cell_type": "markdown",
   "metadata": {},
   "source": [
    "### 2-2) Feature selections\n",
    "- Candidates\n",
    " - Pclass : categorical data\n",
    " - Sex : categorical data\n",
    " - Age : real value and considering seperate the sections\n",
    " - SibSp : real value\n",
    " - Parch : real value\n",
    " - Fare : real value\n",
    " - Embark : categorical data"
   ]
  },
  {
   "cell_type": "markdown",
   "metadata": {},
   "source": [
    "> Pclass"
   ]
  },
  {
   "cell_type": "code",
   "execution_count": 2,
   "metadata": {
    "collapsed": true
   },
   "outputs": [],
   "source": [
    "import seaborn as sns\n",
    "import matplotlib.pyplot as plt\n",
    "import matplotlib as mpl\n",
    "\n",
    "%matplotlib inline\n",
    "\n",
    "mpl.RcParams.update({'font.size': 22, 'figure.figsize': (20, 10)})\n",
    "plt.style.use('ggplot')"
   ]
  },
  {
   "cell_type": "code",
   "execution_count": 3,
   "metadata": {
    "collapsed": false
   },
   "outputs": [
    {
     "data": {
      "text/html": [
       "<style  type=\"text/css\" >\n",
       "    #T_b729cc76_3c1f_11e8_bf42_a45e60cd67f1row0_col0 {\n",
       "            background-color:  #e5ffe5;\n",
       "        }    #T_b729cc76_3c1f_11e8_bf42_a45e60cd67f1row0_col1 {\n",
       "            background-color:  #b9e7b9;\n",
       "        }    #T_b729cc76_3c1f_11e8_bf42_a45e60cd67f1row0_col2 {\n",
       "            background-color:  #dcfadc;\n",
       "        }    #T_b729cc76_3c1f_11e8_bf42_a45e60cd67f1row1_col0 {\n",
       "            background-color:  #ddfbdd;\n",
       "        }    #T_b729cc76_3c1f_11e8_bf42_a45e60cd67f1row1_col1 {\n",
       "            background-color:  #e5ffe5;\n",
       "        }    #T_b729cc76_3c1f_11e8_bf42_a45e60cd67f1row1_col2 {\n",
       "            background-color:  #e5ffe5;\n",
       "        }    #T_b729cc76_3c1f_11e8_bf42_a45e60cd67f1row2_col0 {\n",
       "            background-color:  #56b056;\n",
       "        }    #T_b729cc76_3c1f_11e8_bf42_a45e60cd67f1row2_col1 {\n",
       "            background-color:  #c9efc9;\n",
       "        }    #T_b729cc76_3c1f_11e8_bf42_a45e60cd67f1row2_col2 {\n",
       "            background-color:  #82c882;\n",
       "        }    #T_b729cc76_3c1f_11e8_bf42_a45e60cd67f1row3_col0 {\n",
       "            background-color:  #008000;\n",
       "        }    #T_b729cc76_3c1f_11e8_bf42_a45e60cd67f1row3_col1 {\n",
       "            background-color:  #008000;\n",
       "        }    #T_b729cc76_3c1f_11e8_bf42_a45e60cd67f1row3_col2 {\n",
       "            background-color:  #008000;\n",
       "        }</style>  \n",
       "<table id=\"T_b729cc76_3c1f_11e8_bf42_a45e60cd67f1\" > \n",
       "<thead>    <tr> \n",
       "        <th class=\"index_name level0\" >Survived</th> \n",
       "        <th class=\"col_heading level0 col0\" >0</th> \n",
       "        <th class=\"col_heading level0 col1\" >1</th> \n",
       "        <th class=\"col_heading level0 col2\" >All</th> \n",
       "    </tr>    <tr> \n",
       "        <th class=\"index_name level0\" >Pclass</th> \n",
       "        <th class=\"blank\" ></th> \n",
       "        <th class=\"blank\" ></th> \n",
       "        <th class=\"blank\" ></th> \n",
       "    </tr></thead> \n",
       "<tbody>    <tr> \n",
       "        <th id=\"T_b729cc76_3c1f_11e8_bf42_a45e60cd67f1level0_row0\" class=\"row_heading level0 row0\" >1</th> \n",
       "        <td id=\"T_b729cc76_3c1f_11e8_bf42_a45e60cd67f1row0_col0\" class=\"data row0 col0\" >80</td> \n",
       "        <td id=\"T_b729cc76_3c1f_11e8_bf42_a45e60cd67f1row0_col1\" class=\"data row0 col1\" >136</td> \n",
       "        <td id=\"T_b729cc76_3c1f_11e8_bf42_a45e60cd67f1row0_col2\" class=\"data row0 col2\" >216</td> \n",
       "    </tr>    <tr> \n",
       "        <th id=\"T_b729cc76_3c1f_11e8_bf42_a45e60cd67f1level0_row1\" class=\"row_heading level0 row1\" >2</th> \n",
       "        <td id=\"T_b729cc76_3c1f_11e8_bf42_a45e60cd67f1row1_col0\" class=\"data row1 col0\" >97</td> \n",
       "        <td id=\"T_b729cc76_3c1f_11e8_bf42_a45e60cd67f1row1_col1\" class=\"data row1 col1\" >87</td> \n",
       "        <td id=\"T_b729cc76_3c1f_11e8_bf42_a45e60cd67f1row1_col2\" class=\"data row1 col2\" >184</td> \n",
       "    </tr>    <tr> \n",
       "        <th id=\"T_b729cc76_3c1f_11e8_bf42_a45e60cd67f1level0_row2\" class=\"row_heading level0 row2\" >3</th> \n",
       "        <td id=\"T_b729cc76_3c1f_11e8_bf42_a45e60cd67f1row2_col0\" class=\"data row2 col0\" >372</td> \n",
       "        <td id=\"T_b729cc76_3c1f_11e8_bf42_a45e60cd67f1row2_col1\" class=\"data row2 col1\" >119</td> \n",
       "        <td id=\"T_b729cc76_3c1f_11e8_bf42_a45e60cd67f1row2_col2\" class=\"data row2 col2\" >491</td> \n",
       "    </tr>    <tr> \n",
       "        <th id=\"T_b729cc76_3c1f_11e8_bf42_a45e60cd67f1level0_row3\" class=\"row_heading level0 row3\" >All</th> \n",
       "        <td id=\"T_b729cc76_3c1f_11e8_bf42_a45e60cd67f1row3_col0\" class=\"data row3 col0\" >549</td> \n",
       "        <td id=\"T_b729cc76_3c1f_11e8_bf42_a45e60cd67f1row3_col1\" class=\"data row3 col1\" >342</td> \n",
       "        <td id=\"T_b729cc76_3c1f_11e8_bf42_a45e60cd67f1row3_col2\" class=\"data row3 col2\" >891</td> \n",
       "    </tr></tbody> \n",
       "</table> "
      ],
      "text/plain": [
       "<pandas.io.formats.style.Styler at 0x10b0b1b38>"
      ]
     },
     "execution_count": 3,
     "metadata": {},
     "output_type": "execute_result"
    }
   ],
   "source": [
    "green_cmap = sns.light_palette(\"green\", as_cmap=True)\n",
    "pd.crosstab(train_set.Pclass, train_set.Survived, margins=True)\\\n",
    ".style.background_gradient(cmap=green_cmap)"
   ]
  },
  {
   "cell_type": "markdown",
   "metadata": {},
   "source": [
    "- <U>If class level is higher, the ratio of Survived is increase.</U>\n",
    " - 1 Pclass : 136 / 216\n",
    " - 2 Pclass : 87 / 184\n",
    " - 3 Pclass : 119 / 491"
   ]
  },
  {
   "cell_type": "code",
   "execution_count": 4,
   "metadata": {
    "collapsed": false
   },
   "outputs": [
    {
     "data": {
      "text/plain": [
       "<seaborn.axisgrid.FacetGrid at 0x10b0b1d30>"
      ]
     },
     "execution_count": 4,
     "metadata": {},
     "output_type": "execute_result"
    },
    {
     "data": {
      "image/png": "[encoded data removed]",
      "text/plain": [
       "<matplotlib.figure.Figure at 0x10b0b1dd8>"
      ]
     },
     "metadata": {},
     "output_type": "display_data"
    }
   ],
   "source": [
    "sns.factorplot('Pclass', 'Survived', data = train_set)"
   ]
  },
  {
   "cell_type": "markdown",
   "metadata": {},
   "source": [
    "So, use **Pclass** as a feature."
   ]
  },
  {
   "cell_type": "markdown",
   "metadata": {},
   "source": [
    "> Sex"
   ]
  },
  {
   "cell_type": "code",
   "execution_count": 5,
   "metadata": {
    "collapsed": true
   },
   "outputs": [],
   "source": [
    "sex_perc = train_set[[\"Sex\", \"Survived\"]].groupby(\"Sex\", as_index=False).mean()"
   ]
  },
  {
   "cell_type": "markdown",
   "metadata": {},
   "source": [
    "- The ratio of Survived is much higher in female."
   ]
  },
  {
   "cell_type": "code",
   "execution_count": 6,
   "metadata": {
    "collapsed": false
   },
   "outputs": [
    {
     "data": {
      "text/plain": [
       "<seaborn.axisgrid.FacetGrid at 0x111d58748>"
      ]
     },
     "execution_count": 6,
     "metadata": {},
     "output_type": "execute_result"
    },
    {
     "data": {
      "image/png": "[encoded data removed]",
      "text/plain": [
       "<matplotlib.figure.Figure at 0x111b39c18>"
      ]
     },
     "metadata": {},
     "output_type": "display_data"
    },
    {
     "data": {
      "image/png": "[encoded data removed]",
      "text/plain": [
       "<matplotlib.figure.Figure at 0x111dd7240>"
      ]
     },
     "metadata": {},
     "output_type": "display_data"
    }
   ],
   "source": [
    "sns.barplot(x=\"Sex\", y=\"Survived\", data=sex_perc)\n",
    "sns.factorplot(\"Sex\", \"Survived\", data=train_set)"
   ]
  },
  {
   "cell_type": "markdown",
   "metadata": {},
   "source": [
    "- <U>The ratio of Survived is higher in female.</U>\n",
    "\n",
    "So, use the **Sex** as a feature."
   ]
  },
  {
   "cell_type": "markdown",
   "metadata": {},
   "source": [
    "> Age"
   ]
  },
  {
   "cell_type": "code",
   "execution_count": 7,
   "metadata": {
    "collapsed": true
   },
   "outputs": [],
   "source": [
    "age_percent = train_set[[\"Age\", \"Survived\"]].groupby(\"Age\", as_index=False).mean()"
   ]
  },
  {
   "cell_type": "code",
   "execution_count": 8,
   "metadata": {
    "collapsed": false
   },
   "outputs": [
    {
     "data": {
      "text/plain": [
       "<matplotlib.axes._subplots.AxesSubplot at 0x111eb94e0>"
      ]
     },
     "execution_count": 8,
     "metadata": {},
     "output_type": "execute_result"
    },
    {
     "data": {
      "image/png": "[encoded data removed]",
      "text/plain": [
       "<matplotlib.figure.Figure at 0x111ab3d68>"
      ]
     },
     "metadata": {},
     "output_type": "display_data"
    }
   ],
   "source": [
    "sns.barplot(\"Age\", \"Survived\", data=age_percent)"
   ]
  },
  {
   "cell_type": "code",
   "execution_count": 9,
   "metadata": {
    "collapsed": false
   },
   "outputs": [
    {
     "data": {
      "text/html": [
       "<div>\n",
       "<style scoped>\n",
       "    .dataframe tbody tr th:only-of-type {\n",
       "        vertical-align: middle;\n",
       "    }\n",
       "\n",
       "    .dataframe tbody tr th {\n",
       "        vertical-align: top;\n",
       "    }\n",
       "\n",
       "    .dataframe thead th {\n",
       "        text-align: right;\n",
       "    }\n",
       "</style>\n",
       "<table border=\"1\" class=\"dataframe\">\n",
       "  <thead>\n",
       "    <tr style=\"text-align: right;\">\n",
       "      <th></th>\n",
       "      <th>PassengerId</th>\n",
       "      <th>Survived</th>\n",
       "      <th>Pclass</th>\n",
       "      <th>Name</th>\n",
       "      <th>Sex</th>\n",
       "      <th>Age</th>\n",
       "      <th>SibSp</th>\n",
       "      <th>Parch</th>\n",
       "      <th>Ticket</th>\n",
       "      <th>Fare</th>\n",
       "      <th>Cabin</th>\n",
       "      <th>Embarked</th>\n",
       "      <th>Age_sec</th>\n",
       "    </tr>\n",
       "  </thead>\n",
       "  <tbody>\n",
       "    <tr>\n",
       "      <th>0</th>\n",
       "      <td>1</td>\n",
       "      <td>0</td>\n",
       "      <td>3</td>\n",
       "      <td>Braund, Mr. Owen Harris</td>\n",
       "      <td>male</td>\n",
       "      <td>22.0</td>\n",
       "      <td>1</td>\n",
       "      <td>0</td>\n",
       "      <td>A/5 21171</td>\n",
       "      <td>7.2500</td>\n",
       "      <td>NaN</td>\n",
       "      <td>S</td>\n",
       "      <td>30.0</td>\n",
       "    </tr>\n",
       "    <tr>\n",
       "      <th>1</th>\n",
       "      <td>2</td>\n",
       "      <td>1</td>\n",
       "      <td>1</td>\n",
       "      <td>Cumings, Mrs. John Bradley (Florence Briggs Th...</td>\n",
       "      <td>female</td>\n",
       "      <td>38.0</td>\n",
       "      <td>1</td>\n",
       "      <td>0</td>\n",
       "      <td>PC 17599</td>\n",
       "      <td>71.2833</td>\n",
       "      <td>C85</td>\n",
       "      <td>C</td>\n",
       "      <td>40.0</td>\n",
       "    </tr>\n",
       "    <tr>\n",
       "      <th>2</th>\n",
       "      <td>3</td>\n",
       "      <td>1</td>\n",
       "      <td>3</td>\n",
       "      <td>Heikkinen, Miss. Laina</td>\n",
       "      <td>female</td>\n",
       "      <td>26.0</td>\n",
       "      <td>0</td>\n",
       "      <td>0</td>\n",
       "      <td>STON/O2. 3101282</td>\n",
       "      <td>7.9250</td>\n",
       "      <td>NaN</td>\n",
       "      <td>S</td>\n",
       "      <td>30.0</td>\n",
       "    </tr>\n",
       "    <tr>\n",
       "      <th>3</th>\n",
       "      <td>4</td>\n",
       "      <td>1</td>\n",
       "      <td>1</td>\n",
       "      <td>Futrelle, Mrs. Jacques Heath (Lily May Peel)</td>\n",
       "      <td>female</td>\n",
       "      <td>35.0</td>\n",
       "      <td>1</td>\n",
       "      <td>0</td>\n",
       "      <td>113803</td>\n",
       "      <td>53.1000</td>\n",
       "      <td>C123</td>\n",
       "      <td>S</td>\n",
       "      <td>40.0</td>\n",
       "    </tr>\n",
       "    <tr>\n",
       "      <th>4</th>\n",
       "      <td>5</td>\n",
       "      <td>0</td>\n",
       "      <td>3</td>\n",
       "      <td>Allen, Mr. William Henry</td>\n",
       "      <td>male</td>\n",
       "      <td>35.0</td>\n",
       "      <td>0</td>\n",
       "      <td>0</td>\n",
       "      <td>373450</td>\n",
       "      <td>8.0500</td>\n",
       "      <td>NaN</td>\n",
       "      <td>S</td>\n",
       "      <td>40.0</td>\n",
       "    </tr>\n",
       "    <tr>\n",
       "      <th>5</th>\n",
       "      <td>6</td>\n",
       "      <td>0</td>\n",
       "      <td>3</td>\n",
       "      <td>Moran, Mr. James</td>\n",
       "      <td>male</td>\n",
       "      <td>NaN</td>\n",
       "      <td>0</td>\n",
       "      <td>0</td>\n",
       "      <td>330877</td>\n",
       "      <td>8.4583</td>\n",
       "      <td>NaN</td>\n",
       "      <td>Q</td>\n",
       "      <td>NaN</td>\n",
       "    </tr>\n",
       "    <tr>\n",
       "      <th>6</th>\n",
       "      <td>7</td>\n",
       "      <td>0</td>\n",
       "      <td>1</td>\n",
       "      <td>McCarthy, Mr. Timothy J</td>\n",
       "      <td>male</td>\n",
       "      <td>54.0</td>\n",
       "      <td>0</td>\n",
       "      <td>0</td>\n",
       "      <td>17463</td>\n",
       "      <td>51.8625</td>\n",
       "      <td>E46</td>\n",
       "      <td>S</td>\n",
       "      <td>60.0</td>\n",
       "    </tr>\n",
       "    <tr>\n",
       "      <th>7</th>\n",
       "      <td>8</td>\n",
       "      <td>0</td>\n",
       "      <td>3</td>\n",
       "      <td>Palsson, Master. Gosta Leonard</td>\n",
       "      <td>male</td>\n",
       "      <td>2.0</td>\n",
       "      <td>3</td>\n",
       "      <td>1</td>\n",
       "      <td>349909</td>\n",
       "      <td>21.0750</td>\n",
       "      <td>NaN</td>\n",
       "      <td>S</td>\n",
       "      <td>10.0</td>\n",
       "    </tr>\n",
       "    <tr>\n",
       "      <th>8</th>\n",
       "      <td>9</td>\n",
       "      <td>1</td>\n",
       "      <td>3</td>\n",
       "      <td>Johnson, Mrs. Oscar W (Elisabeth Vilhelmina Berg)</td>\n",
       "      <td>female</td>\n",
       "      <td>27.0</td>\n",
       "      <td>0</td>\n",
       "      <td>2</td>\n",
       "      <td>347742</td>\n",
       "      <td>11.1333</td>\n",
       "      <td>NaN</td>\n",
       "      <td>S</td>\n",
       "      <td>30.0</td>\n",
       "    </tr>\n",
       "    <tr>\n",
       "      <th>9</th>\n",
       "      <td>10</td>\n",
       "      <td>1</td>\n",
       "      <td>2</td>\n",
       "      <td>Nasser, Mrs. Nicholas (Adele Achem)</td>\n",
       "      <td>female</td>\n",
       "      <td>14.0</td>\n",
       "      <td>1</td>\n",
       "      <td>0</td>\n",
       "      <td>237736</td>\n",
       "      <td>30.0708</td>\n",
       "      <td>NaN</td>\n",
       "      <td>C</td>\n",
       "      <td>20.0</td>\n",
       "    </tr>\n",
       "  </tbody>\n",
       "</table>\n",
       "</div>"
      ],
      "text/plain": [
       "   PassengerId  Survived  Pclass  \\\n",
       "0            1         0       3   \n",
       "1            2         1       1   \n",
       "2            3         1       3   \n",
       "3            4         1       1   \n",
       "4            5         0       3   \n",
       "5            6         0       3   \n",
       "6            7         0       1   \n",
       "7            8         0       3   \n",
       "8            9         1       3   \n",
       "9           10         1       2   \n",
       "\n",
       "                                                Name     Sex   Age  SibSp  \\\n",
       "0                            Braund, Mr. Owen Harris    male  22.0      1   \n",
       "1  Cumings, Mrs. John Bradley (Florence Briggs Th...  female  38.0      1   \n",
       "2                             Heikkinen, Miss. Laina  female  26.0      0   \n",
       "3       Futrelle, Mrs. Jacques Heath (Lily May Peel)  female  35.0      1   \n",
       "4                           Allen, Mr. William Henry    male  35.0      0   \n",
       "5                                   Moran, Mr. James    male   NaN      0   \n",
       "6                            McCarthy, Mr. Timothy J    male  54.0      0   \n",
       "7                     Palsson, Master. Gosta Leonard    male   2.0      3   \n",
       "8  Johnson, Mrs. Oscar W (Elisabeth Vilhelmina Berg)  female  27.0      0   \n",
       "9                Nasser, Mrs. Nicholas (Adele Achem)  female  14.0      1   \n",
       "\n",
       "   Parch            Ticket     Fare Cabin Embarked  Age_sec  \n",
       "0      0         A/5 21171   7.2500   NaN        S     30.0  \n",
       "1      0          PC 17599  71.2833   C85        C     40.0  \n",
       "2      0  STON/O2. 3101282   7.9250   NaN        S     30.0  \n",
       "3      0            113803  53.1000  C123        S     40.0  \n",
       "4      0            373450   8.0500   NaN        S     40.0  \n",
       "5      0            330877   8.4583   NaN        Q      NaN  \n",
       "6      0             17463  51.8625   E46        S     60.0  \n",
       "7      1            349909  21.0750   NaN        S     10.0  \n",
       "8      2            347742  11.1333   NaN        S     30.0  \n",
       "9      0            237736  30.0708   NaN        C     20.0  "
      ]
     },
     "execution_count": 9,
     "metadata": {},
     "output_type": "execute_result"
    }
   ],
   "source": [
    "# divide age sections.\n",
    "train_set[\"Age_sec\"] = np.nan\n",
    "for i in range(10, 0, -1):\n",
    "    train_set.loc[train_set[\"Age\"] <= i*10, \"Age_sec\"] = i*10\n",
    "    \n",
    "train_set.head(10)"
   ]
  },
  {
   "cell_type": "code",
   "execution_count": 10,
   "metadata": {
    "collapsed": false
   },
   "outputs": [
    {
     "data": {
      "text/plain": [
       "<seaborn.axisgrid.FacetGrid at 0x112115c88>"
      ]
     },
     "execution_count": 10,
     "metadata": {},
     "output_type": "execute_result"
    },
    {
     "data": {
      "image/png": "[encoded data removed]",
      "text/plain": [
       "<matplotlib.figure.Figure at 0x112115278>"
      ]
     },
     "metadata": {},
     "output_type": "display_data"
    }
   ],
   "source": [
    "sns.factorplot(\"Age_sec\", \"Survived\", hue=\"Pclass\", data=train_set)"
   ]
  },
  {
   "cell_type": "code",
   "execution_count": 11,
   "metadata": {
    "collapsed": false
   },
   "outputs": [
    {
     "data": {
      "text/plain": [
       "<seaborn.axisgrid.FacetGrid at 0x111f03c88>"
      ]
     },
     "execution_count": 11,
     "metadata": {},
     "output_type": "execute_result"
    },
    {
     "data": {
      "image/png": "[encoded data removed]",
      "text/plain": [
       "<matplotlib.figure.Figure at 0x111ebe6d8>"
      ]
     },
     "metadata": {},
     "output_type": "display_data"
    }
   ],
   "source": [
    "sns.factorplot(\"Age_sec\", \"Survived\", hue=\"Sex\", data=train_set)"
   ]
  },
  {
   "cell_type": "markdown",
   "metadata": {},
   "source": [
    "- The count of Survived is more higher in Young, old people.\n",
    " - When Pclass is higher, the ratio of Survived is higher on whole age section.\n",
    " - In case of male, the 10s, 30s, 40s, 80s are higher.\n",
    " - In case of female, 60s, 70s are higher.\n",
    "- Age affects to the Survived and dependant to Sex or Pclass.\n",
    "\n",
    "So, use the **Age** as a feature."
   ]
  },
  {
   "cell_type": "markdown",
   "metadata": {},
   "source": [
    "> SibSp and Parch"
   ]
  },
  {
   "cell_type": "code",
   "execution_count": 12,
   "metadata": {
    "collapsed": false
   },
   "outputs": [
    {
     "data": {
      "text/html": [
       "<style  type=\"text/css\" >\n",
       "    #T_b93f1f0c_3c1f_11e8_ab81_a45e60cd67f1row0_col0 {\n",
       "            background-color:  #e5ffe5;\n",
       "        }    #T_b93f1f0c_3c1f_11e8_ab81_a45e60cd67f1row0_col1 {\n",
       "            background-color:  #e5ffe5;\n",
       "        }    #T_b93f1f0c_3c1f_11e8_ab81_a45e60cd67f1row0_col2 {\n",
       "            background-color:  #e5ffe5;\n",
       "        }    #T_b93f1f0c_3c1f_11e8_ab81_a45e60cd67f1row0_col3 {\n",
       "            background-color:  #81c781;\n",
       "        }    #T_b93f1f0c_3c1f_11e8_ab81_a45e60cd67f1row0_col4 {\n",
       "            background-color:  #bde9bd;\n",
       "        }    #T_b93f1f0c_3c1f_11e8_ab81_a45e60cd67f1row0_col5 {\n",
       "            background-color:  #b8e6b8;\n",
       "        }    #T_b93f1f0c_3c1f_11e8_ab81_a45e60cd67f1row0_col6 {\n",
       "            background-color:  #83c983;\n",
       "        }    #T_b93f1f0c_3c1f_11e8_ab81_a45e60cd67f1row0_col7 {\n",
       "            background-color:  #e5ffe5;\n",
       "        }    #T_b93f1f0c_3c1f_11e8_ab81_a45e60cd67f1row1_col0 {\n",
       "            background-color:  #63b763;\n",
       "        }    #T_b93f1f0c_3c1f_11e8_ab81_a45e60cd67f1row1_col1 {\n",
       "            background-color:  #aee0ae;\n",
       "        }    #T_b93f1f0c_3c1f_11e8_ab81_a45e60cd67f1row1_col2 {\n",
       "            background-color:  #93d193;\n",
       "        }    #T_b93f1f0c_3c1f_11e8_ab81_a45e60cd67f1row1_col3 {\n",
       "            background-color:  #9ed79e;\n",
       "        }    #T_b93f1f0c_3c1f_11e8_ab81_a45e60cd67f1row1_col4 {\n",
       "            background-color:  #5eb45e;\n",
       "        }    #T_b93f1f0c_3c1f_11e8_ab81_a45e60cd67f1row1_col5 {\n",
       "            background-color:  #2e992e;\n",
       "        }    #T_b93f1f0c_3c1f_11e8_ab81_a45e60cd67f1row1_col6 {\n",
       "            background-color:  #62b662;\n",
       "        }    #T_b93f1f0c_3c1f_11e8_ab81_a45e60cd67f1row1_col7 {\n",
       "            background-color:  #78c278;\n",
       "        }    #T_b93f1f0c_3c1f_11e8_ab81_a45e60cd67f1row2_col0 {\n",
       "            background-color:  #bee9be;\n",
       "        }    #T_b93f1f0c_3c1f_11e8_ab81_a45e60cd67f1row2_col1 {\n",
       "            background-color:  #a2daa2;\n",
       "        }    #T_b93f1f0c_3c1f_11e8_ab81_a45e60cd67f1row2_col2 {\n",
       "            background-color:  #a6dca6;\n",
       "        }    #T_b93f1f0c_3c1f_11e8_ab81_a45e60cd67f1row2_col3 {\n",
       "            background-color:  #acdfac;\n",
       "        }    #T_b93f1f0c_3c1f_11e8_ab81_a45e60cd67f1row2_col4 {\n",
       "            background-color:  #d8f8d8;\n",
       "        }    #T_b93f1f0c_3c1f_11e8_ab81_a45e60cd67f1row2_col5 {\n",
       "            background-color:  #e5ffe5;\n",
       "        }    #T_b93f1f0c_3c1f_11e8_ab81_a45e60cd67f1row2_col6 {\n",
       "            background-color:  #e5ffe5;\n",
       "        }    #T_b93f1f0c_3c1f_11e8_ab81_a45e60cd67f1row2_col7 {\n",
       "            background-color:  #bae7ba;\n",
       "        }    #T_b93f1f0c_3c1f_11e8_ab81_a45e60cd67f1row3_col0 {\n",
       "            background-color:  #d7f7d7;\n",
       "        }    #T_b93f1f0c_3c1f_11e8_ab81_a45e60cd67f1row3_col1 {\n",
       "            background-color:  #defbde;\n",
       "        }    #T_b93f1f0c_3c1f_11e8_ab81_a45e60cd67f1row3_col2 {\n",
       "            background-color:  #e5ffe5;\n",
       "        }    #T_b93f1f0c_3c1f_11e8_ab81_a45e60cd67f1row3_col3 {\n",
       "            background-color:  #e5ffe5;\n",
       "        }    #T_b93f1f0c_3c1f_11e8_ab81_a45e60cd67f1row3_col4 {\n",
       "            background-color:  #e5ffe5;\n",
       "        }    #T_b93f1f0c_3c1f_11e8_ab81_a45e60cd67f1row3_col5 {\n",
       "            background-color:  #e5ffe5;\n",
       "        }    #T_b93f1f0c_3c1f_11e8_ab81_a45e60cd67f1row3_col6 {\n",
       "            background-color:  #e5ffe5;\n",
       "        }    #T_b93f1f0c_3c1f_11e8_ab81_a45e60cd67f1row3_col7 {\n",
       "            background-color:  #defbde;\n",
       "        }    #T_b93f1f0c_3c1f_11e8_ab81_a45e60cd67f1row4_col0 {\n",
       "            background-color:  #008000;\n",
       "        }    #T_b93f1f0c_3c1f_11e8_ab81_a45e60cd67f1row4_col1 {\n",
       "            background-color:  #008000;\n",
       "        }    #T_b93f1f0c_3c1f_11e8_ab81_a45e60cd67f1row4_col2 {\n",
       "            background-color:  #008000;\n",
       "        }    #T_b93f1f0c_3c1f_11e8_ab81_a45e60cd67f1row4_col3 {\n",
       "            background-color:  #008000;\n",
       "        }    #T_b93f1f0c_3c1f_11e8_ab81_a45e60cd67f1row4_col4 {\n",
       "            background-color:  #008000;\n",
       "        }    #T_b93f1f0c_3c1f_11e8_ab81_a45e60cd67f1row4_col5 {\n",
       "            background-color:  #008000;\n",
       "        }    #T_b93f1f0c_3c1f_11e8_ab81_a45e60cd67f1row4_col6 {\n",
       "            background-color:  #008000;\n",
       "        }    #T_b93f1f0c_3c1f_11e8_ab81_a45e60cd67f1row4_col7 {\n",
       "            background-color:  #008000;\n",
       "        }</style>  \n",
       "<table id=\"T_b93f1f0c_3c1f_11e8_ab81_a45e60cd67f1\" > \n",
       "<thead>    <tr> \n",
       "        <th class=\"blank\" ></th> \n",
       "        <th class=\"index_name level0\" >SibSp</th> \n",
       "        <th class=\"col_heading level0 col0\" >0</th> \n",
       "        <th class=\"col_heading level0 col1\" >1</th> \n",
       "        <th class=\"col_heading level0 col2\" >2</th> \n",
       "        <th class=\"col_heading level0 col3\" >3</th> \n",
       "        <th class=\"col_heading level0 col4\" >4</th> \n",
       "        <th class=\"col_heading level0 col5\" >5</th> \n",
       "        <th class=\"col_heading level0 col6\" >8</th> \n",
       "        <th class=\"col_heading level0 col7\" >All</th> \n",
       "    </tr>    <tr> \n",
       "        <th class=\"index_name level0\" >Survived</th> \n",
       "        <th class=\"index_name level1\" >Sex</th> \n",
       "        <th class=\"blank\" ></th> \n",
       "        <th class=\"blank\" ></th> \n",
       "        <th class=\"blank\" ></th> \n",
       "        <th class=\"blank\" ></th> \n",
       "        <th class=\"blank\" ></th> \n",
       "        <th class=\"blank\" ></th> \n",
       "        <th class=\"blank\" ></th> \n",
       "        <th class=\"blank\" ></th> \n",
       "    </tr></thead> \n",
       "<tbody>    <tr> \n",
       "        <th id=\"T_b93f1f0c_3c1f_11e8_ab81_a45e60cd67f1level0_row0\" class=\"row_heading level0 row0\" rowspan=2>0</th> \n",
       "        <th id=\"T_b93f1f0c_3c1f_11e8_ab81_a45e60cd67f1level1_row0\" class=\"row_heading level1 row0\" >female</th> \n",
       "        <td id=\"T_b93f1f0c_3c1f_11e8_ab81_a45e60cd67f1row0_col0\" class=\"data row0 col0\" >37</td> \n",
       "        <td id=\"T_b93f1f0c_3c1f_11e8_ab81_a45e60cd67f1row0_col1\" class=\"data row0 col1\" >26</td> \n",
       "        <td id=\"T_b93f1f0c_3c1f_11e8_ab81_a45e60cd67f1row0_col2\" class=\"data row0 col2\" >3</td> \n",
       "        <td id=\"T_b93f1f0c_3c1f_11e8_ab81_a45e60cd67f1row0_col3\" class=\"data row0 col3\" >7</td> \n",
       "        <td id=\"T_b93f1f0c_3c1f_11e8_ab81_a45e60cd67f1row0_col4\" class=\"data row0 col4\" >4</td> \n",
       "        <td id=\"T_b93f1f0c_3c1f_11e8_ab81_a45e60cd67f1row0_col5\" class=\"data row0 col5\" >1</td> \n",
       "        <td id=\"T_b93f1f0c_3c1f_11e8_ab81_a45e60cd67f1row0_col6\" class=\"data row0 col6\" >3</td> \n",
       "        <td id=\"T_b93f1f0c_3c1f_11e8_ab81_a45e60cd67f1row0_col7\" class=\"data row0 col7\" >81</td> \n",
       "    </tr>    <tr> \n",
       "        <th id=\"T_b93f1f0c_3c1f_11e8_ab81_a45e60cd67f1level1_row1\" class=\"row_heading level1 row1\" >male</th> \n",
       "        <td id=\"T_b93f1f0c_3c1f_11e8_ab81_a45e60cd67f1row1_col0\" class=\"data row1 col0\" >361</td> \n",
       "        <td id=\"T_b93f1f0c_3c1f_11e8_ab81_a45e60cd67f1row1_col1\" class=\"data row1 col1\" >71</td> \n",
       "        <td id=\"T_b93f1f0c_3c1f_11e8_ab81_a45e60cd67f1row1_col2\" class=\"data row1 col2\" >12</td> \n",
       "        <td id=\"T_b93f1f0c_3c1f_11e8_ab81_a45e60cd67f1row1_col3\" class=\"data row1 col3\" >5</td> \n",
       "        <td id=\"T_b93f1f0c_3c1f_11e8_ab81_a45e60cd67f1row1_col4\" class=\"data row1 col4\" >11</td> \n",
       "        <td id=\"T_b93f1f0c_3c1f_11e8_ab81_a45e60cd67f1row1_col5\" class=\"data row1 col5\" >4</td> \n",
       "        <td id=\"T_b93f1f0c_3c1f_11e8_ab81_a45e60cd67f1row1_col6\" class=\"data row1 col6\" >4</td> \n",
       "        <td id=\"T_b93f1f0c_3c1f_11e8_ab81_a45e60cd67f1row1_col7\" class=\"data row1 col7\" >468</td> \n",
       "    </tr>    <tr> \n",
       "        <th id=\"T_b93f1f0c_3c1f_11e8_ab81_a45e60cd67f1level0_row2\" class=\"row_heading level0 row2\" rowspan=2>1</th> \n",
       "        <th id=\"T_b93f1f0c_3c1f_11e8_ab81_a45e60cd67f1level1_row2\" class=\"row_heading level1 row2\" >female</th> \n",
       "        <td id=\"T_b93f1f0c_3c1f_11e8_ab81_a45e60cd67f1row2_col0\" class=\"data row2 col0\" >137</td> \n",
       "        <td id=\"T_b93f1f0c_3c1f_11e8_ab81_a45e60cd67f1row2_col1\" class=\"data row2 col1\" >80</td> \n",
       "        <td id=\"T_b93f1f0c_3c1f_11e8_ab81_a45e60cd67f1row2_col2\" class=\"data row2 col2\" >10</td> \n",
       "        <td id=\"T_b93f1f0c_3c1f_11e8_ab81_a45e60cd67f1row2_col3\" class=\"data row2 col3\" >4</td> \n",
       "        <td id=\"T_b93f1f0c_3c1f_11e8_ab81_a45e60cd67f1row2_col4\" class=\"data row2 col4\" >2</td> \n",
       "        <td id=\"T_b93f1f0c_3c1f_11e8_ab81_a45e60cd67f1row2_col5\" class=\"data row2 col5\" >0</td> \n",
       "        <td id=\"T_b93f1f0c_3c1f_11e8_ab81_a45e60cd67f1row2_col6\" class=\"data row2 col6\" >0</td> \n",
       "        <td id=\"T_b93f1f0c_3c1f_11e8_ab81_a45e60cd67f1row2_col7\" class=\"data row2 col7\" >233</td> \n",
       "    </tr>    <tr> \n",
       "        <th id=\"T_b93f1f0c_3c1f_11e8_ab81_a45e60cd67f1level1_row3\" class=\"row_heading level1 row3\" >male</th> \n",
       "        <td id=\"T_b93f1f0c_3c1f_11e8_ab81_a45e60cd67f1row3_col0\" class=\"data row3 col0\" >73</td> \n",
       "        <td id=\"T_b93f1f0c_3c1f_11e8_ab81_a45e60cd67f1row3_col1\" class=\"data row3 col1\" >32</td> \n",
       "        <td id=\"T_b93f1f0c_3c1f_11e8_ab81_a45e60cd67f1row3_col2\" class=\"data row3 col2\" >3</td> \n",
       "        <td id=\"T_b93f1f0c_3c1f_11e8_ab81_a45e60cd67f1row3_col3\" class=\"data row3 col3\" >0</td> \n",
       "        <td id=\"T_b93f1f0c_3c1f_11e8_ab81_a45e60cd67f1row3_col4\" class=\"data row3 col4\" >1</td> \n",
       "        <td id=\"T_b93f1f0c_3c1f_11e8_ab81_a45e60cd67f1row3_col5\" class=\"data row3 col5\" >0</td> \n",
       "        <td id=\"T_b93f1f0c_3c1f_11e8_ab81_a45e60cd67f1row3_col6\" class=\"data row3 col6\" >0</td> \n",
       "        <td id=\"T_b93f1f0c_3c1f_11e8_ab81_a45e60cd67f1row3_col7\" class=\"data row3 col7\" >109</td> \n",
       "    </tr>    <tr> \n",
       "        <th id=\"T_b93f1f0c_3c1f_11e8_ab81_a45e60cd67f1level0_row4\" class=\"row_heading level0 row4\" >All</th> \n",
       "        <th id=\"T_b93f1f0c_3c1f_11e8_ab81_a45e60cd67f1level1_row4\" class=\"row_heading level1 row4\" ></th> \n",
       "        <td id=\"T_b93f1f0c_3c1f_11e8_ab81_a45e60cd67f1row4_col0\" class=\"data row4 col0\" >608</td> \n",
       "        <td id=\"T_b93f1f0c_3c1f_11e8_ab81_a45e60cd67f1row4_col1\" class=\"data row4 col1\" >209</td> \n",
       "        <td id=\"T_b93f1f0c_3c1f_11e8_ab81_a45e60cd67f1row4_col2\" class=\"data row4 col2\" >28</td> \n",
       "        <td id=\"T_b93f1f0c_3c1f_11e8_ab81_a45e60cd67f1row4_col3\" class=\"data row4 col3\" >16</td> \n",
       "        <td id=\"T_b93f1f0c_3c1f_11e8_ab81_a45e60cd67f1row4_col4\" class=\"data row4 col4\" >18</td> \n",
       "        <td id=\"T_b93f1f0c_3c1f_11e8_ab81_a45e60cd67f1row4_col5\" class=\"data row4 col5\" >5</td> \n",
       "        <td id=\"T_b93f1f0c_3c1f_11e8_ab81_a45e60cd67f1row4_col6\" class=\"data row4 col6\" >7</td> \n",
       "        <td id=\"T_b93f1f0c_3c1f_11e8_ab81_a45e60cd67f1row4_col7\" class=\"data row4 col7\" >891</td> \n",
       "    </tr></tbody> \n",
       "</table> "
      ],
      "text/plain": [
       "<pandas.io.formats.style.Styler at 0x1a1b7fcb38>"
      ]
     },
     "execution_count": 12,
     "metadata": {},
     "output_type": "execute_result"
    }
   ],
   "source": [
    "# SibSp -> Sex could affect!\n",
    "pd.crosstab([train_set.Survived, train_set.Sex], train_set.SibSp, margins=True)\\\n",
    ".style.background_gradient(cmap=green_cmap)"
   ]
  },
  {
   "cell_type": "code",
   "execution_count": 13,
   "metadata": {
    "collapsed": false
   },
   "outputs": [
    {
     "data": {
      "text/html": [
       "<style  type=\"text/css\" >\n",
       "    #T_b9522106_3c1f_11e8_8daa_a45e60cd67f1row0_col0 {\n",
       "            background-color:  #e5ffe5;\n",
       "        }    #T_b9522106_3c1f_11e8_8daa_a45e60cd67f1row0_col1 {\n",
       "            background-color:  #e5ffe5;\n",
       "        }    #T_b9522106_3c1f_11e8_8daa_a45e60cd67f1row0_col2 {\n",
       "            background-color:  #c9efc9;\n",
       "        }    #T_b9522106_3c1f_11e8_8daa_a45e60cd67f1row0_col3 {\n",
       "            background-color:  #b8e6b8;\n",
       "        }    #T_b9522106_3c1f_11e8_8daa_a45e60cd67f1row0_col4 {\n",
       "            background-color:  #72bf72;\n",
       "        }    #T_b9522106_3c1f_11e8_8daa_a45e60cd67f1row0_col5 {\n",
       "            background-color:  #5cb35c;\n",
       "        }    #T_b9522106_3c1f_11e8_8daa_a45e60cd67f1row0_col6 {\n",
       "            background-color:  #008000;\n",
       "        }    #T_b9522106_3c1f_11e8_8daa_a45e60cd67f1row0_col7 {\n",
       "            background-color:  #e5ffe5;\n",
       "        }    #T_b9522106_3c1f_11e8_8daa_a45e60cd67f1row1_col0 {\n",
       "            background-color:  #63b763;\n",
       "        }    #T_b9522106_3c1f_11e8_8daa_a45e60cd67f1row1_col1 {\n",
       "            background-color:  #afe1af;\n",
       "        }    #T_b9522106_3c1f_11e8_8daa_a45e60cd67f1row1_col2 {\n",
       "            background-color:  #c2ebc2;\n",
       "        }    #T_b9522106_3c1f_11e8_8daa_a45e60cd67f1row1_col3 {\n",
       "            background-color:  #b8e6b8;\n",
       "        }    #T_b9522106_3c1f_11e8_8daa_a45e60cd67f1row1_col4 {\n",
       "            background-color:  #72bf72;\n",
       "        }    #T_b9522106_3c1f_11e8_8daa_a45e60cd67f1row1_col5 {\n",
       "            background-color:  #b8e6b8;\n",
       "        }    #T_b9522106_3c1f_11e8_8daa_a45e60cd67f1row1_col6 {\n",
       "            background-color:  #e5ffe5;\n",
       "        }    #T_b9522106_3c1f_11e8_8daa_a45e60cd67f1row1_col7 {\n",
       "            background-color:  #78c278;\n",
       "        }    #T_b9522106_3c1f_11e8_8daa_a45e60cd67f1row2_col0 {\n",
       "            background-color:  #bde9bd;\n",
       "        }    #T_b9522106_3c1f_11e8_8daa_a45e60cd67f1row2_col1 {\n",
       "            background-color:  #9fd89f;\n",
       "        }    #T_b9522106_3c1f_11e8_8daa_a45e60cd67f1row2_col2 {\n",
       "            background-color:  #a4dba4;\n",
       "        }    #T_b9522106_3c1f_11e8_8daa_a45e60cd67f1row2_col3 {\n",
       "            background-color:  #5cb35c;\n",
       "        }    #T_b9522106_3c1f_11e8_8daa_a45e60cd67f1row2_col4 {\n",
       "            background-color:  #e5ffe5;\n",
       "        }    #T_b9522106_3c1f_11e8_8daa_a45e60cd67f1row2_col5 {\n",
       "            background-color:  #b8e6b8;\n",
       "        }    #T_b9522106_3c1f_11e8_8daa_a45e60cd67f1row2_col6 {\n",
       "            background-color:  #e5ffe5;\n",
       "        }    #T_b9522106_3c1f_11e8_8daa_a45e60cd67f1row2_col7 {\n",
       "            background-color:  #bae7ba;\n",
       "        }    #T_b9522106_3c1f_11e8_8daa_a45e60cd67f1row3_col0 {\n",
       "            background-color:  #d8f8d8;\n",
       "        }    #T_b9522106_3c1f_11e8_8daa_a45e60cd67f1row3_col1 {\n",
       "            background-color:  #dbf9db;\n",
       "        }    #T_b9522106_3c1f_11e8_8daa_a45e60cd67f1row3_col2 {\n",
       "            background-color:  #e5ffe5;\n",
       "        }    #T_b9522106_3c1f_11e8_8daa_a45e60cd67f1row3_col3 {\n",
       "            background-color:  #e5ffe5;\n",
       "        }    #T_b9522106_3c1f_11e8_8daa_a45e60cd67f1row3_col4 {\n",
       "            background-color:  #e5ffe5;\n",
       "        }    #T_b9522106_3c1f_11e8_8daa_a45e60cd67f1row3_col5 {\n",
       "            background-color:  #e5ffe5;\n",
       "        }    #T_b9522106_3c1f_11e8_8daa_a45e60cd67f1row3_col6 {\n",
       "            background-color:  #e5ffe5;\n",
       "        }    #T_b9522106_3c1f_11e8_8daa_a45e60cd67f1row3_col7 {\n",
       "            background-color:  #defbde;\n",
       "        }    #T_b9522106_3c1f_11e8_8daa_a45e60cd67f1row4_col0 {\n",
       "            background-color:  #008000;\n",
       "        }    #T_b9522106_3c1f_11e8_8daa_a45e60cd67f1row4_col1 {\n",
       "            background-color:  #008000;\n",
       "        }    #T_b9522106_3c1f_11e8_8daa_a45e60cd67f1row4_col2 {\n",
       "            background-color:  #008000;\n",
       "        }    #T_b9522106_3c1f_11e8_8daa_a45e60cd67f1row4_col3 {\n",
       "            background-color:  #008000;\n",
       "        }    #T_b9522106_3c1f_11e8_8daa_a45e60cd67f1row4_col4 {\n",
       "            background-color:  #008000;\n",
       "        }    #T_b9522106_3c1f_11e8_8daa_a45e60cd67f1row4_col5 {\n",
       "            background-color:  #008000;\n",
       "        }    #T_b9522106_3c1f_11e8_8daa_a45e60cd67f1row4_col6 {\n",
       "            background-color:  #008000;\n",
       "        }    #T_b9522106_3c1f_11e8_8daa_a45e60cd67f1row4_col7 {\n",
       "            background-color:  #008000;\n",
       "        }</style>  \n",
       "<table id=\"T_b9522106_3c1f_11e8_8daa_a45e60cd67f1\" > \n",
       "<thead>    <tr> \n",
       "        <th class=\"blank\" ></th> \n",
       "        <th class=\"index_name level0\" >Parch</th> \n",
       "        <th class=\"col_heading level0 col0\" >0</th> \n",
       "        <th class=\"col_heading level0 col1\" >1</th> \n",
       "        <th class=\"col_heading level0 col2\" >2</th> \n",
       "        <th class=\"col_heading level0 col3\" >3</th> \n",
       "        <th class=\"col_heading level0 col4\" >4</th> \n",
       "        <th class=\"col_heading level0 col5\" >5</th> \n",
       "        <th class=\"col_heading level0 col6\" >6</th> \n",
       "        <th class=\"col_heading level0 col7\" >All</th> \n",
       "    </tr>    <tr> \n",
       "        <th class=\"index_name level0\" >Survived</th> \n",
       "        <th class=\"index_name level1\" >Sex</th> \n",
       "        <th class=\"blank\" ></th> \n",
       "        <th class=\"blank\" ></th> \n",
       "        <th class=\"blank\" ></th> \n",
       "        <th class=\"blank\" ></th> \n",
       "        <th class=\"blank\" ></th> \n",
       "        <th class=\"blank\" ></th> \n",
       "        <th class=\"blank\" ></th> \n",
       "        <th class=\"blank\" ></th> \n",
       "    </tr></thead> \n",
       "<tbody>    <tr> \n",
       "        <th id=\"T_b9522106_3c1f_11e8_8daa_a45e60cd67f1level0_row0\" class=\"row_heading level0 row0\" rowspan=2>0</th> \n",
       "        <th id=\"T_b9522106_3c1f_11e8_8daa_a45e60cd67f1level1_row0\" class=\"row_heading level1 row0\" >female</th> \n",
       "        <td id=\"T_b9522106_3c1f_11e8_8daa_a45e60cd67f1row0_col0\" class=\"data row0 col0\" >41</td> \n",
       "        <td id=\"T_b9522106_3c1f_11e8_8daa_a45e60cd67f1row0_col1\" class=\"data row0 col1\" >14</td> \n",
       "        <td id=\"T_b9522106_3c1f_11e8_8daa_a45e60cd67f1row0_col2\" class=\"data row0 col2\" >19</td> \n",
       "        <td id=\"T_b9522106_3c1f_11e8_8daa_a45e60cd67f1row0_col3\" class=\"data row0 col3\" >1</td> \n",
       "        <td id=\"T_b9522106_3c1f_11e8_8daa_a45e60cd67f1row0_col4\" class=\"data row0 col4\" >2</td> \n",
       "        <td id=\"T_b9522106_3c1f_11e8_8daa_a45e60cd67f1row0_col5\" class=\"data row0 col5\" >3</td> \n",
       "        <td id=\"T_b9522106_3c1f_11e8_8daa_a45e60cd67f1row0_col6\" class=\"data row0 col6\" >1</td> \n",
       "        <td id=\"T_b9522106_3c1f_11e8_8daa_a45e60cd67f1row0_col7\" class=\"data row0 col7\" >81</td> \n",
       "    </tr>    <tr> \n",
       "        <th id=\"T_b9522106_3c1f_11e8_8daa_a45e60cd67f1level1_row1\" class=\"row_heading level1 row1\" >male</th> \n",
       "        <td id=\"T_b9522106_3c1f_11e8_8daa_a45e60cd67f1row1_col0\" class=\"data row1 col0\" >404</td> \n",
       "        <td id=\"T_b9522106_3c1f_11e8_8daa_a45e60cd67f1row1_col1\" class=\"data row1 col1\" >39</td> \n",
       "        <td id=\"T_b9522106_3c1f_11e8_8daa_a45e60cd67f1row1_col2\" class=\"data row1 col2\" >21</td> \n",
       "        <td id=\"T_b9522106_3c1f_11e8_8daa_a45e60cd67f1row1_col3\" class=\"data row1 col3\" >1</td> \n",
       "        <td id=\"T_b9522106_3c1f_11e8_8daa_a45e60cd67f1row1_col4\" class=\"data row1 col4\" >2</td> \n",
       "        <td id=\"T_b9522106_3c1f_11e8_8daa_a45e60cd67f1row1_col5\" class=\"data row1 col5\" >1</td> \n",
       "        <td id=\"T_b9522106_3c1f_11e8_8daa_a45e60cd67f1row1_col6\" class=\"data row1 col6\" >0</td> \n",
       "        <td id=\"T_b9522106_3c1f_11e8_8daa_a45e60cd67f1row1_col7\" class=\"data row1 col7\" >468</td> \n",
       "    </tr>    <tr> \n",
       "        <th id=\"T_b9522106_3c1f_11e8_8daa_a45e60cd67f1level0_row2\" class=\"row_heading level0 row2\" rowspan=2>1</th> \n",
       "        <th id=\"T_b9522106_3c1f_11e8_8daa_a45e60cd67f1level1_row2\" class=\"row_heading level1 row2\" >female</th> \n",
       "        <td id=\"T_b9522106_3c1f_11e8_8daa_a45e60cd67f1row2_col0\" class=\"data row2 col0\" >153</td> \n",
       "        <td id=\"T_b9522106_3c1f_11e8_8daa_a45e60cd67f1row2_col1\" class=\"data row2 col1\" >46</td> \n",
       "        <td id=\"T_b9522106_3c1f_11e8_8daa_a45e60cd67f1row2_col2\" class=\"data row2 col2\" >30</td> \n",
       "        <td id=\"T_b9522106_3c1f_11e8_8daa_a45e60cd67f1row2_col3\" class=\"data row2 col3\" >3</td> \n",
       "        <td id=\"T_b9522106_3c1f_11e8_8daa_a45e60cd67f1row2_col4\" class=\"data row2 col4\" >0</td> \n",
       "        <td id=\"T_b9522106_3c1f_11e8_8daa_a45e60cd67f1row2_col5\" class=\"data row2 col5\" >1</td> \n",
       "        <td id=\"T_b9522106_3c1f_11e8_8daa_a45e60cd67f1row2_col6\" class=\"data row2 col6\" >0</td> \n",
       "        <td id=\"T_b9522106_3c1f_11e8_8daa_a45e60cd67f1row2_col7\" class=\"data row2 col7\" >233</td> \n",
       "    </tr>    <tr> \n",
       "        <th id=\"T_b9522106_3c1f_11e8_8daa_a45e60cd67f1level1_row3\" class=\"row_heading level1 row3\" >male</th> \n",
       "        <td id=\"T_b9522106_3c1f_11e8_8daa_a45e60cd67f1row3_col0\" class=\"data row3 col0\" >80</td> \n",
       "        <td id=\"T_b9522106_3c1f_11e8_8daa_a45e60cd67f1row3_col1\" class=\"data row3 col1\" >19</td> \n",
       "        <td id=\"T_b9522106_3c1f_11e8_8daa_a45e60cd67f1row3_col2\" class=\"data row3 col2\" >10</td> \n",
       "        <td id=\"T_b9522106_3c1f_11e8_8daa_a45e60cd67f1row3_col3\" class=\"data row3 col3\" >0</td> \n",
       "        <td id=\"T_b9522106_3c1f_11e8_8daa_a45e60cd67f1row3_col4\" class=\"data row3 col4\" >0</td> \n",
       "        <td id=\"T_b9522106_3c1f_11e8_8daa_a45e60cd67f1row3_col5\" class=\"data row3 col5\" >0</td> \n",
       "        <td id=\"T_b9522106_3c1f_11e8_8daa_a45e60cd67f1row3_col6\" class=\"data row3 col6\" >0</td> \n",
       "        <td id=\"T_b9522106_3c1f_11e8_8daa_a45e60cd67f1row3_col7\" class=\"data row3 col7\" >109</td> \n",
       "    </tr>    <tr> \n",
       "        <th id=\"T_b9522106_3c1f_11e8_8daa_a45e60cd67f1level0_row4\" class=\"row_heading level0 row4\" >All</th> \n",
       "        <th id=\"T_b9522106_3c1f_11e8_8daa_a45e60cd67f1level1_row4\" class=\"row_heading level1 row4\" ></th> \n",
       "        <td id=\"T_b9522106_3c1f_11e8_8daa_a45e60cd67f1row4_col0\" class=\"data row4 col0\" >678</td> \n",
       "        <td id=\"T_b9522106_3c1f_11e8_8daa_a45e60cd67f1row4_col1\" class=\"data row4 col1\" >118</td> \n",
       "        <td id=\"T_b9522106_3c1f_11e8_8daa_a45e60cd67f1row4_col2\" class=\"data row4 col2\" >80</td> \n",
       "        <td id=\"T_b9522106_3c1f_11e8_8daa_a45e60cd67f1row4_col3\" class=\"data row4 col3\" >5</td> \n",
       "        <td id=\"T_b9522106_3c1f_11e8_8daa_a45e60cd67f1row4_col4\" class=\"data row4 col4\" >4</td> \n",
       "        <td id=\"T_b9522106_3c1f_11e8_8daa_a45e60cd67f1row4_col5\" class=\"data row4 col5\" >5</td> \n",
       "        <td id=\"T_b9522106_3c1f_11e8_8daa_a45e60cd67f1row4_col6\" class=\"data row4 col6\" >1</td> \n",
       "        <td id=\"T_b9522106_3c1f_11e8_8daa_a45e60cd67f1row4_col7\" class=\"data row4 col7\" >891</td> \n",
       "    </tr></tbody> \n",
       "</table> "
      ],
      "text/plain": [
       "<pandas.io.formats.style.Styler at 0x1a1b89a6a0>"
      ]
     },
     "execution_count": 13,
     "metadata": {},
     "output_type": "execute_result"
    }
   ],
   "source": [
    "pd.crosstab([train_set.Survived, train_set.Sex], train_set.Parch, margins=True)\\\n",
    ".style.background_gradient(cmap=green_cmap)"
   ]
  },
  {
   "cell_type": "markdown",
   "metadata": {},
   "source": [
    "- Male without parents, child, sibling, spouse died more than others.\n",
    "\n",
    "So, use **SibSp** and **Parch** as features."
   ]
  },
  {
   "cell_type": "markdown",
   "metadata": {},
   "source": [
    "> Fare\n",
    "- This is related to Pclass, so check the correlations and then select."
   ]
  },
  {
   "cell_type": "markdown",
   "metadata": {},
   "source": [
    "> Embarked"
   ]
  },
  {
   "cell_type": "code",
   "execution_count": 14,
   "metadata": {
    "collapsed": false
   },
   "outputs": [
    {
     "data": {
      "text/plain": [
       "<matplotlib.axes._subplots.AxesSubplot at 0x1a1ba3c518>"
      ]
     },
     "execution_count": 14,
     "metadata": {},
     "output_type": "execute_result"
    },
    {
     "data": {
      "image/png": "[encoded data removed]",
      "text/plain": [
       "<matplotlib.figure.Figure at 0x1120a4eb8>"
      ]
     },
     "metadata": {},
     "output_type": "display_data"
    }
   ],
   "source": [
    "embarked_perc = train_set[[\"Embarked\", \"Survived\"]].groupby(\"Embarked\", as_index=False).mean()\n",
    "\n",
    "fig, (axes_1, axes_2, axes_3) = plt.subplots(1, 3, figsize=(21, 7))\n",
    "\n",
    "sns.countplot(x=\"Embarked\", data=train_set, ax=axes_1)\n",
    "sns.countplot(x=\"Survived\", hue=\"Embarked\", data=train_set, order=[0, 1], ax=axes_2)\n",
    "sns.barplot(x=\"Embarked\", y=\"Survived\", data=embarked_perc, ax=axes_3)"
   ]
  },
  {
   "cell_type": "markdown",
   "metadata": {},
   "source": [
    "- C is higher.\n",
    "\n",
    "So, use **Embarked** as a feature."
   ]
  },
  {
   "cell_type": "markdown",
   "metadata": {},
   "source": [
    "### 2-3. Checking correlations."
   ]
  },
  {
   "cell_type": "code",
   "execution_count": 15,
   "metadata": {
    "collapsed": false
   },
   "outputs": [
    {
     "data": {
      "text/html": [
       "<div>\n",
       "<style scoped>\n",
       "    .dataframe tbody tr th:only-of-type {\n",
       "        vertical-align: middle;\n",
       "    }\n",
       "\n",
       "    .dataframe tbody tr th {\n",
       "        vertical-align: top;\n",
       "    }\n",
       "\n",
       "    .dataframe thead th {\n",
       "        text-align: right;\n",
       "    }\n",
       "</style>\n",
       "<table border=\"1\" class=\"dataframe\">\n",
       "  <thead>\n",
       "    <tr style=\"text-align: right;\">\n",
       "      <th></th>\n",
       "      <th>Age</th>\n",
       "      <th>SibSp</th>\n",
       "      <th>Parch</th>\n",
       "      <th>Fare</th>\n",
       "      <th>Survived</th>\n",
       "      <th>Sex_female</th>\n",
       "      <th>Sex_male</th>\n",
       "      <th>Emabrked_C</th>\n",
       "      <th>Emabrked_Q</th>\n",
       "      <th>Emabrked_S</th>\n",
       "    </tr>\n",
       "  </thead>\n",
       "  <tbody>\n",
       "    <tr>\n",
       "      <th>0</th>\n",
       "      <td>22.0</td>\n",
       "      <td>1</td>\n",
       "      <td>0</td>\n",
       "      <td>7.2500</td>\n",
       "      <td>0</td>\n",
       "      <td>0</td>\n",
       "      <td>1</td>\n",
       "      <td>0</td>\n",
       "      <td>0</td>\n",
       "      <td>1</td>\n",
       "    </tr>\n",
       "    <tr>\n",
       "      <th>1</th>\n",
       "      <td>38.0</td>\n",
       "      <td>1</td>\n",
       "      <td>0</td>\n",
       "      <td>71.2833</td>\n",
       "      <td>1</td>\n",
       "      <td>1</td>\n",
       "      <td>0</td>\n",
       "      <td>1</td>\n",
       "      <td>0</td>\n",
       "      <td>0</td>\n",
       "    </tr>\n",
       "    <tr>\n",
       "      <th>2</th>\n",
       "      <td>26.0</td>\n",
       "      <td>0</td>\n",
       "      <td>0</td>\n",
       "      <td>7.9250</td>\n",
       "      <td>1</td>\n",
       "      <td>1</td>\n",
       "      <td>0</td>\n",
       "      <td>0</td>\n",
       "      <td>0</td>\n",
       "      <td>1</td>\n",
       "    </tr>\n",
       "    <tr>\n",
       "      <th>3</th>\n",
       "      <td>35.0</td>\n",
       "      <td>1</td>\n",
       "      <td>0</td>\n",
       "      <td>53.1000</td>\n",
       "      <td>1</td>\n",
       "      <td>1</td>\n",
       "      <td>0</td>\n",
       "      <td>0</td>\n",
       "      <td>0</td>\n",
       "      <td>1</td>\n",
       "    </tr>\n",
       "    <tr>\n",
       "      <th>4</th>\n",
       "      <td>35.0</td>\n",
       "      <td>0</td>\n",
       "      <td>0</td>\n",
       "      <td>8.0500</td>\n",
       "      <td>0</td>\n",
       "      <td>0</td>\n",
       "      <td>1</td>\n",
       "      <td>0</td>\n",
       "      <td>0</td>\n",
       "      <td>1</td>\n",
       "    </tr>\n",
       "    <tr>\n",
       "      <th>5</th>\n",
       "      <td>NaN</td>\n",
       "      <td>0</td>\n",
       "      <td>0</td>\n",
       "      <td>8.4583</td>\n",
       "      <td>0</td>\n",
       "      <td>0</td>\n",
       "      <td>1</td>\n",
       "      <td>0</td>\n",
       "      <td>1</td>\n",
       "      <td>0</td>\n",
       "    </tr>\n",
       "    <tr>\n",
       "      <th>6</th>\n",
       "      <td>54.0</td>\n",
       "      <td>0</td>\n",
       "      <td>0</td>\n",
       "      <td>51.8625</td>\n",
       "      <td>0</td>\n",
       "      <td>0</td>\n",
       "      <td>1</td>\n",
       "      <td>0</td>\n",
       "      <td>0</td>\n",
       "      <td>1</td>\n",
       "    </tr>\n",
       "    <tr>\n",
       "      <th>7</th>\n",
       "      <td>2.0</td>\n",
       "      <td>3</td>\n",
       "      <td>1</td>\n",
       "      <td>21.0750</td>\n",
       "      <td>0</td>\n",
       "      <td>0</td>\n",
       "      <td>1</td>\n",
       "      <td>0</td>\n",
       "      <td>0</td>\n",
       "      <td>1</td>\n",
       "    </tr>\n",
       "    <tr>\n",
       "      <th>8</th>\n",
       "      <td>27.0</td>\n",
       "      <td>0</td>\n",
       "      <td>2</td>\n",
       "      <td>11.1333</td>\n",
       "      <td>1</td>\n",
       "      <td>1</td>\n",
       "      <td>0</td>\n",
       "      <td>0</td>\n",
       "      <td>0</td>\n",
       "      <td>1</td>\n",
       "    </tr>\n",
       "    <tr>\n",
       "      <th>9</th>\n",
       "      <td>14.0</td>\n",
       "      <td>1</td>\n",
       "      <td>0</td>\n",
       "      <td>30.0708</td>\n",
       "      <td>1</td>\n",
       "      <td>1</td>\n",
       "      <td>0</td>\n",
       "      <td>1</td>\n",
       "      <td>0</td>\n",
       "      <td>0</td>\n",
       "    </tr>\n",
       "  </tbody>\n",
       "</table>\n",
       "</div>"
      ],
      "text/plain": [
       "    Age  SibSp  Parch     Fare  Survived  Sex_female  Sex_male  Emabrked_C  \\\n",
       "0  22.0      1      0   7.2500         0           0         1           0   \n",
       "1  38.0      1      0  71.2833         1           1         0           1   \n",
       "2  26.0      0      0   7.9250         1           1         0           0   \n",
       "3  35.0      1      0  53.1000         1           1         0           0   \n",
       "4  35.0      0      0   8.0500         0           0         1           0   \n",
       "5   NaN      0      0   8.4583         0           0         1           0   \n",
       "6  54.0      0      0  51.8625         0           0         1           0   \n",
       "7   2.0      3      1  21.0750         0           0         1           0   \n",
       "8  27.0      0      2  11.1333         1           1         0           0   \n",
       "9  14.0      1      0  30.0708         1           1         0           1   \n",
       "\n",
       "   Emabrked_Q  Emabrked_S  \n",
       "0           0           1  \n",
       "1           0           0  \n",
       "2           0           1  \n",
       "3           0           1  \n",
       "4           0           1  \n",
       "5           1           0  \n",
       "6           0           1  \n",
       "7           0           1  \n",
       "8           0           1  \n",
       "9           0           0  "
      ]
     },
     "execution_count": 15,
     "metadata": {},
     "output_type": "execute_result"
    }
   ],
   "source": [
    "temp_df = train_set[[\"Sex\", \"Age\", \"SibSp\", \"Parch\", \"Fare\", \"Embarked\", \"Survived\"]]\n",
    "categorical_features = [\"Sex\", \"Emabrked\"]\n",
    "selected_df = pd.get_dummies(temp_df, categorical_features)\n",
    "\n",
    "selected_df.head(10)"
   ]
  },
  {
   "cell_type": "code",
   "execution_count": 16,
   "metadata": {
    "collapsed": false
   },
   "outputs": [
    {
     "data": {
      "text/html": [
       "<div>\n",
       "<style scoped>\n",
       "    .dataframe tbody tr th:only-of-type {\n",
       "        vertical-align: middle;\n",
       "    }\n",
       "\n",
       "    .dataframe tbody tr th {\n",
       "        vertical-align: top;\n",
       "    }\n",
       "\n",
       "    .dataframe thead th {\n",
       "        text-align: right;\n",
       "    }\n",
       "</style>\n",
       "<table border=\"1\" class=\"dataframe\">\n",
       "  <thead>\n",
       "    <tr style=\"text-align: right;\">\n",
       "      <th></th>\n",
       "      <th>Age</th>\n",
       "      <th>SibSp</th>\n",
       "      <th>Parch</th>\n",
       "      <th>Fare</th>\n",
       "      <th>Survived</th>\n",
       "      <th>Sex_female</th>\n",
       "      <th>Sex_male</th>\n",
       "      <th>Emabrked_C</th>\n",
       "      <th>Emabrked_Q</th>\n",
       "      <th>Emabrked_S</th>\n",
       "    </tr>\n",
       "  </thead>\n",
       "  <tbody>\n",
       "    <tr>\n",
       "      <th>count</th>\n",
       "      <td>714.000000</td>\n",
       "      <td>891.000000</td>\n",
       "      <td>891.000000</td>\n",
       "      <td>891.000000</td>\n",
       "      <td>891.000000</td>\n",
       "      <td>891.000000</td>\n",
       "      <td>891.000000</td>\n",
       "      <td>891.000000</td>\n",
       "      <td>891.000000</td>\n",
       "      <td>891.000000</td>\n",
       "    </tr>\n",
       "    <tr>\n",
       "      <th>mean</th>\n",
       "      <td>29.699118</td>\n",
       "      <td>0.523008</td>\n",
       "      <td>0.381594</td>\n",
       "      <td>32.204208</td>\n",
       "      <td>0.383838</td>\n",
       "      <td>0.352413</td>\n",
       "      <td>0.647587</td>\n",
       "      <td>0.188552</td>\n",
       "      <td>0.086420</td>\n",
       "      <td>0.722783</td>\n",
       "    </tr>\n",
       "    <tr>\n",
       "      <th>std</th>\n",
       "      <td>14.526497</td>\n",
       "      <td>1.102743</td>\n",
       "      <td>0.806057</td>\n",
       "      <td>49.693429</td>\n",
       "      <td>0.486592</td>\n",
       "      <td>0.477990</td>\n",
       "      <td>0.477990</td>\n",
       "      <td>0.391372</td>\n",
       "      <td>0.281141</td>\n",
       "      <td>0.447876</td>\n",
       "    </tr>\n",
       "    <tr>\n",
       "      <th>min</th>\n",
       "      <td>0.420000</td>\n",
       "      <td>0.000000</td>\n",
       "      <td>0.000000</td>\n",
       "      <td>0.000000</td>\n",
       "      <td>0.000000</td>\n",
       "      <td>0.000000</td>\n",
       "      <td>0.000000</td>\n",
       "      <td>0.000000</td>\n",
       "      <td>0.000000</td>\n",
       "      <td>0.000000</td>\n",
       "    </tr>\n",
       "    <tr>\n",
       "      <th>25%</th>\n",
       "      <td>20.125000</td>\n",
       "      <td>0.000000</td>\n",
       "      <td>0.000000</td>\n",
       "      <td>7.910400</td>\n",
       "      <td>0.000000</td>\n",
       "      <td>0.000000</td>\n",
       "      <td>0.000000</td>\n",
       "      <td>0.000000</td>\n",
       "      <td>0.000000</td>\n",
       "      <td>0.000000</td>\n",
       "    </tr>\n",
       "    <tr>\n",
       "      <th>50%</th>\n",
       "      <td>28.000000</td>\n",
       "      <td>0.000000</td>\n",
       "      <td>0.000000</td>\n",
       "      <td>14.454200</td>\n",
       "      <td>0.000000</td>\n",
       "      <td>0.000000</td>\n",
       "      <td>1.000000</td>\n",
       "      <td>0.000000</td>\n",
       "      <td>0.000000</td>\n",
       "      <td>1.000000</td>\n",
       "    </tr>\n",
       "    <tr>\n",
       "      <th>75%</th>\n",
       "      <td>38.000000</td>\n",
       "      <td>1.000000</td>\n",
       "      <td>0.000000</td>\n",
       "      <td>31.000000</td>\n",
       "      <td>1.000000</td>\n",
       "      <td>1.000000</td>\n",
       "      <td>1.000000</td>\n",
       "      <td>0.000000</td>\n",
       "      <td>0.000000</td>\n",
       "      <td>1.000000</td>\n",
       "    </tr>\n",
       "    <tr>\n",
       "      <th>max</th>\n",
       "      <td>80.000000</td>\n",
       "      <td>8.000000</td>\n",
       "      <td>6.000000</td>\n",
       "      <td>512.329200</td>\n",
       "      <td>1.000000</td>\n",
       "      <td>1.000000</td>\n",
       "      <td>1.000000</td>\n",
       "      <td>1.000000</td>\n",
       "      <td>1.000000</td>\n",
       "      <td>1.000000</td>\n",
       "    </tr>\n",
       "  </tbody>\n",
       "</table>\n",
       "</div>"
      ],
      "text/plain": [
       "              Age       SibSp       Parch        Fare    Survived  Sex_female  \\\n",
       "count  714.000000  891.000000  891.000000  891.000000  891.000000  891.000000   \n",
       "mean    29.699118    0.523008    0.381594   32.204208    0.383838    0.352413   \n",
       "std     14.526497    1.102743    0.806057   49.693429    0.486592    0.477990   \n",
       "min      0.420000    0.000000    0.000000    0.000000    0.000000    0.000000   \n",
       "25%     20.125000    0.000000    0.000000    7.910400    0.000000    0.000000   \n",
       "50%     28.000000    0.000000    0.000000   14.454200    0.000000    0.000000   \n",
       "75%     38.000000    1.000000    0.000000   31.000000    1.000000    1.000000   \n",
       "max     80.000000    8.000000    6.000000  512.329200    1.000000    1.000000   \n",
       "\n",
       "         Sex_male  Emabrked_C  Emabrked_Q  Emabrked_S  \n",
       "count  891.000000  891.000000  891.000000  891.000000  \n",
       "mean     0.647587    0.188552    0.086420    0.722783  \n",
       "std      0.477990    0.391372    0.281141    0.447876  \n",
       "min      0.000000    0.000000    0.000000    0.000000  \n",
       "25%      0.000000    0.000000    0.000000    0.000000  \n",
       "50%      1.000000    0.000000    0.000000    1.000000  \n",
       "75%      1.000000    0.000000    0.000000    1.000000  \n",
       "max      1.000000    1.000000    1.000000    1.000000  "
      ]
     },
     "execution_count": 16,
     "metadata": {},
     "output_type": "execute_result"
    }
   ],
   "source": [
    "selected_df.describe()"
   ]
  },
  {
   "cell_type": "code",
   "execution_count": 17,
   "metadata": {
    "collapsed": true
   },
   "outputs": [],
   "source": [
    "# Prepocessing NaN value\n",
    "selected_df[\"Age\"] = selected_df[\"Age\"].fillna(selected_df[\"Age\"].mean())"
   ]
  },
  {
   "cell_type": "code",
   "execution_count": 18,
   "metadata": {
    "collapsed": false
   },
   "outputs": [
    {
     "data": {
      "text/html": [
       "<div>\n",
       "<style scoped>\n",
       "    .dataframe tbody tr th:only-of-type {\n",
       "        vertical-align: middle;\n",
       "    }\n",
       "\n",
       "    .dataframe tbody tr th {\n",
       "        vertical-align: top;\n",
       "    }\n",
       "\n",
       "    .dataframe thead th {\n",
       "        text-align: right;\n",
       "    }\n",
       "</style>\n",
       "<table border=\"1\" class=\"dataframe\">\n",
       "  <thead>\n",
       "    <tr style=\"text-align: right;\">\n",
       "      <th></th>\n",
       "      <th>Age</th>\n",
       "      <th>SibSp</th>\n",
       "      <th>Parch</th>\n",
       "      <th>Fare</th>\n",
       "      <th>Survived</th>\n",
       "      <th>Sex_female</th>\n",
       "      <th>Sex_male</th>\n",
       "      <th>Emabrked_C</th>\n",
       "      <th>Emabrked_Q</th>\n",
       "      <th>Emabrked_S</th>\n",
       "    </tr>\n",
       "  </thead>\n",
       "  <tbody>\n",
       "    <tr>\n",
       "      <th>count</th>\n",
       "      <td>891.000000</td>\n",
       "      <td>891.000000</td>\n",
       "      <td>891.000000</td>\n",
       "      <td>891.000000</td>\n",
       "      <td>891.000000</td>\n",
       "      <td>891.000000</td>\n",
       "      <td>891.000000</td>\n",
       "      <td>891.000000</td>\n",
       "      <td>891.000000</td>\n",
       "      <td>891.000000</td>\n",
       "    </tr>\n",
       "    <tr>\n",
       "      <th>mean</th>\n",
       "      <td>29.699118</td>\n",
       "      <td>0.523008</td>\n",
       "      <td>0.381594</td>\n",
       "      <td>32.204208</td>\n",
       "      <td>0.383838</td>\n",
       "      <td>0.352413</td>\n",
       "      <td>0.647587</td>\n",
       "      <td>0.188552</td>\n",
       "      <td>0.086420</td>\n",
       "      <td>0.722783</td>\n",
       "    </tr>\n",
       "    <tr>\n",
       "      <th>std</th>\n",
       "      <td>13.002015</td>\n",
       "      <td>1.102743</td>\n",
       "      <td>0.806057</td>\n",
       "      <td>49.693429</td>\n",
       "      <td>0.486592</td>\n",
       "      <td>0.477990</td>\n",
       "      <td>0.477990</td>\n",
       "      <td>0.391372</td>\n",
       "      <td>0.281141</td>\n",
       "      <td>0.447876</td>\n",
       "    </tr>\n",
       "    <tr>\n",
       "      <th>min</th>\n",
       "      <td>0.420000</td>\n",
       "      <td>0.000000</td>\n",
       "      <td>0.000000</td>\n",
       "      <td>0.000000</td>\n",
       "      <td>0.000000</td>\n",
       "      <td>0.000000</td>\n",
       "      <td>0.000000</td>\n",
       "      <td>0.000000</td>\n",
       "      <td>0.000000</td>\n",
       "      <td>0.000000</td>\n",
       "    </tr>\n",
       "    <tr>\n",
       "      <th>25%</th>\n",
       "      <td>22.000000</td>\n",
       "      <td>0.000000</td>\n",
       "      <td>0.000000</td>\n",
       "      <td>7.910400</td>\n",
       "      <td>0.000000</td>\n",
       "      <td>0.000000</td>\n",
       "      <td>0.000000</td>\n",
       "      <td>0.000000</td>\n",
       "      <td>0.000000</td>\n",
       "      <td>0.000000</td>\n",
       "    </tr>\n",
       "    <tr>\n",
       "      <th>50%</th>\n",
       "      <td>29.699118</td>\n",
       "      <td>0.000000</td>\n",
       "      <td>0.000000</td>\n",
       "      <td>14.454200</td>\n",
       "      <td>0.000000</td>\n",
       "      <td>0.000000</td>\n",
       "      <td>1.000000</td>\n",
       "      <td>0.000000</td>\n",
       "      <td>0.000000</td>\n",
       "      <td>1.000000</td>\n",
       "    </tr>\n",
       "    <tr>\n",
       "      <th>75%</th>\n",
       "      <td>35.000000</td>\n",
       "      <td>1.000000</td>\n",
       "      <td>0.000000</td>\n",
       "      <td>31.000000</td>\n",
       "      <td>1.000000</td>\n",
       "      <td>1.000000</td>\n",
       "      <td>1.000000</td>\n",
       "      <td>0.000000</td>\n",
       "      <td>0.000000</td>\n",
       "      <td>1.000000</td>\n",
       "    </tr>\n",
       "    <tr>\n",
       "      <th>max</th>\n",
       "      <td>80.000000</td>\n",
       "      <td>8.000000</td>\n",
       "      <td>6.000000</td>\n",
       "      <td>512.329200</td>\n",
       "      <td>1.000000</td>\n",
       "      <td>1.000000</td>\n",
       "      <td>1.000000</td>\n",
       "      <td>1.000000</td>\n",
       "      <td>1.000000</td>\n",
       "      <td>1.000000</td>\n",
       "    </tr>\n",
       "  </tbody>\n",
       "</table>\n",
       "</div>"
      ],
      "text/plain": [
       "              Age       SibSp       Parch        Fare    Survived  Sex_female  \\\n",
       "count  891.000000  891.000000  891.000000  891.000000  891.000000  891.000000   \n",
       "mean    29.699118    0.523008    0.381594   32.204208    0.383838    0.352413   \n",
       "std     13.002015    1.102743    0.806057   49.693429    0.486592    0.477990   \n",
       "min      0.420000    0.000000    0.000000    0.000000    0.000000    0.000000   \n",
       "25%     22.000000    0.000000    0.000000    7.910400    0.000000    0.000000   \n",
       "50%     29.699118    0.000000    0.000000   14.454200    0.000000    0.000000   \n",
       "75%     35.000000    1.000000    0.000000   31.000000    1.000000    1.000000   \n",
       "max     80.000000    8.000000    6.000000  512.329200    1.000000    1.000000   \n",
       "\n",
       "         Sex_male  Emabrked_C  Emabrked_Q  Emabrked_S  \n",
       "count  891.000000  891.000000  891.000000  891.000000  \n",
       "mean     0.647587    0.188552    0.086420    0.722783  \n",
       "std      0.477990    0.391372    0.281141    0.447876  \n",
       "min      0.000000    0.000000    0.000000    0.000000  \n",
       "25%      0.000000    0.000000    0.000000    0.000000  \n",
       "50%      1.000000    0.000000    0.000000    1.000000  \n",
       "75%      1.000000    0.000000    0.000000    1.000000  \n",
       "max      1.000000    1.000000    1.000000    1.000000  "
      ]
     },
     "execution_count": 18,
     "metadata": {},
     "output_type": "execute_result"
    }
   ],
   "source": [
    "selected_df.describe()"
   ]
  },
  {
   "cell_type": "code",
   "execution_count": 19,
   "metadata": {
    "collapsed": false
   },
   "outputs": [
    {
     "data": {
      "text/plain": [
       "<matplotlib.axes._subplots.AxesSubplot at 0x1a1c0972e8>"
      ]
     },
     "execution_count": 19,
     "metadata": {},
     "output_type": "execute_result"
    },
    {
     "data": {
      "image/png": "[encoded data removed]",
      "text/plain": [
       "<matplotlib.figure.Figure at 0x1a1ba9e9b0>"
      ]
     },
     "metadata": {},
     "output_type": "display_data"
    }
   ],
   "source": [
    "correlation = selected_df.corr()\n",
    "sns.heatmap(correlation, cmap=\"viridis\", annot=True)"
   ]
  },
  {
   "cell_type": "markdown",
   "metadata": {},
   "source": [
    "**Use this training data sets.**"
   ]
  },
  {
   "cell_type": "markdown",
   "metadata": {},
   "source": [
    "### 2-4 PCA"
   ]
  },
  {
   "cell_type": "code",
   "execution_count": 20,
   "metadata": {
    "collapsed": false
   },
   "outputs": [
    {
     "data": {
      "text/plain": [
       "[<matplotlib.lines.Line2D at 0x1a1cb82710>]"
      ]
     },
     "execution_count": 20,
     "metadata": {},
     "output_type": "execute_result"
    },
    {
     "data": {
      "image/png": "[encoded data removed]",
      "text/plain": [
       "<matplotlib.figure.Figure at 0x1a1bdd4208>"
      ]
     },
     "metadata": {},
     "output_type": "display_data"
    }
   ],
   "source": [
    "from sklearn.decomposition import PCA\n",
    "\n",
    "pca = PCA(n_components=None, random_state=20180408)\n",
    "pca.fit(selected_df.drop(\"Survived\", axis=1))\n",
    "\n",
    "# importance of features\n",
    "var = pca.explained_variance_ratio_\n",
    "fig, (axes_1, axes_2) = plt.subplots(1, 2, figsize=(10, 5))\n",
    "\n",
    "var_cum_sum = np.cumsum(var)\n",
    "\n",
    "axes_1.plot(var)\n",
    "axes_2.plot(var_cum_sum)"
   ]
  },
  {
   "cell_type": "markdown",
   "metadata": {},
   "source": [
    "Actually, we just can use 4~5 features for prediction."
   ]
  },
  {
   "cell_type": "markdown",
   "metadata": {},
   "source": [
    "## 3. Modeling with full feature"
   ]
  },
  {
   "cell_type": "markdown",
   "metadata": {},
   "source": [
    "### 3-1 Scaling (Making the 0 avg and 1 std)"
   ]
  },
  {
   "cell_type": "code",
   "execution_count": 21,
   "metadata": {
    "collapsed": false
   },
   "outputs": [
    {
     "name": "stdout",
     "output_type": "stream",
     "text": [
      "           Age  SibSp  Parch      Fare  Sex_female  Sex_male  Emabrked_C  \\\n",
      "0    22.000000      1      0    7.2500           0         1           0   \n",
      "1    38.000000      1      0   71.2833           1         0           1   \n",
      "2    26.000000      0      0    7.9250           1         0           0   \n",
      "3    35.000000      1      0   53.1000           1         0           0   \n",
      "4    35.000000      0      0    8.0500           0         1           0   \n",
      "5    29.699118      0      0    8.4583           0         1           0   \n",
      "6    54.000000      0      0   51.8625           0         1           0   \n",
      "7     2.000000      3      1   21.0750           0         1           0   \n",
      "8    27.000000      0      2   11.1333           1         0           0   \n",
      "9    14.000000      1      0   30.0708           1         0           1   \n",
      "10    4.000000      1      1   16.7000           1         0           0   \n",
      "11   58.000000      0      0   26.5500           1         0           0   \n",
      "12   20.000000      0      0    8.0500           0         1           0   \n",
      "13   39.000000      1      5   31.2750           0         1           0   \n",
      "14   14.000000      0      0    7.8542           1         0           0   \n",
      "15   55.000000      0      0   16.0000           1         0           0   \n",
      "16    2.000000      4      1   29.1250           0         1           0   \n",
      "17   29.699118      0      0   13.0000           0         1           0   \n",
      "18   31.000000      1      0   18.0000           1         0           0   \n",
      "19   29.699118      0      0    7.2250           1         0           1   \n",
      "20   35.000000      0      0   26.0000           0         1           0   \n",
      "21   34.000000      0      0   13.0000           0         1           0   \n",
      "22   15.000000      0      0    8.0292           1         0           0   \n",
      "23   28.000000      0      0   35.5000           0         1           0   \n",
      "24    8.000000      3      1   21.0750           1         0           0   \n",
      "25   38.000000      1      5   31.3875           1         0           0   \n",
      "26   29.699118      0      0    7.2250           0         1           1   \n",
      "27   19.000000      3      2  263.0000           0         1           0   \n",
      "28   29.699118      0      0    7.8792           1         0           0   \n",
      "29   29.699118      0      0    7.8958           0         1           0   \n",
      "..         ...    ...    ...       ...         ...       ...         ...   \n",
      "861  21.000000      1      0   11.5000           0         1           0   \n",
      "862  48.000000      0      0   25.9292           1         0           0   \n",
      "863  29.699118      8      2   69.5500           1         0           0   \n",
      "864  24.000000      0      0   13.0000           0         1           0   \n",
      "865  42.000000      0      0   13.0000           1         0           0   \n",
      "866  27.000000      1      0   13.8583           1         0           1   \n",
      "867  31.000000      0      0   50.4958           0         1           0   \n",
      "868  29.699118      0      0    9.5000           0         1           0   \n",
      "869   4.000000      1      1   11.1333           0         1           0   \n",
      "870  26.000000      0      0    7.8958           0         1           0   \n",
      "871  47.000000      1      1   52.5542           1         0           0   \n",
      "872  33.000000      0      0    5.0000           0         1           0   \n",
      "873  47.000000      0      0    9.0000           0         1           0   \n",
      "874  28.000000      1      0   24.0000           1         0           1   \n",
      "875  15.000000      0      0    7.2250           1         0           1   \n",
      "876  20.000000      0      0    9.8458           0         1           0   \n",
      "877  19.000000      0      0    7.8958           0         1           0   \n",
      "878  29.699118      0      0    7.8958           0         1           0   \n",
      "879  56.000000      0      1   83.1583           1         0           1   \n",
      "880  25.000000      0      1   26.0000           1         0           0   \n",
      "881  33.000000      0      0    7.8958           0         1           0   \n",
      "882  22.000000      0      0   10.5167           1         0           0   \n",
      "883  28.000000      0      0   10.5000           0         1           0   \n",
      "884  25.000000      0      0    7.0500           0         1           0   \n",
      "885  39.000000      0      5   29.1250           1         0           0   \n",
      "886  27.000000      0      0   13.0000           0         1           0   \n",
      "887  19.000000      0      0   30.0000           1         0           0   \n",
      "888  29.699118      1      2   23.4500           1         0           0   \n",
      "889  26.000000      0      0   30.0000           0         1           1   \n",
      "890  32.000000      0      0    7.7500           0         1           0   \n",
      "\n",
      "     Emabrked_Q  Emabrked_S  \n",
      "0             0           1  \n",
      "1             0           0  \n",
      "2             0           1  \n",
      "3             0           1  \n",
      "4             0           1  \n",
      "5             1           0  \n",
      "6             0           1  \n",
      "7             0           1  \n",
      "8             0           1  \n",
      "9             0           0  \n",
      "10            0           1  \n",
      "11            0           1  \n",
      "12            0           1  \n",
      "13            0           1  \n",
      "14            0           1  \n",
      "15            0           1  \n",
      "16            1           0  \n",
      "17            0           1  \n",
      "18            0           1  \n",
      "19            0           0  \n",
      "20            0           1  \n",
      "21            0           1  \n",
      "22            1           0  \n",
      "23            0           1  \n",
      "24            0           1  \n",
      "25            0           1  \n",
      "26            0           0  \n",
      "27            0           1  \n",
      "28            1           0  \n",
      "29            0           1  \n",
      "..          ...         ...  \n",
      "861           0           1  \n",
      "862           0           1  \n",
      "863           0           1  \n",
      "864           0           1  \n",
      "865           0           1  \n",
      "866           0           0  \n",
      "867           0           1  \n",
      "868           0           1  \n",
      "869           0           1  \n",
      "870           0           1  \n",
      "871           0           1  \n",
      "872           0           1  \n",
      "873           0           1  \n",
      "874           0           0  \n",
      "875           0           0  \n",
      "876           0           1  \n",
      "877           0           1  \n",
      "878           0           1  \n",
      "879           0           0  \n",
      "880           0           1  \n",
      "881           0           1  \n",
      "882           0           1  \n",
      "883           0           1  \n",
      "884           0           1  \n",
      "885           1           0  \n",
      "886           0           1  \n",
      "887           0           1  \n",
      "888           0           1  \n",
      "889           0           0  \n",
      "890           1           0  \n",
      "\n",
      "[891 rows x 9 columns]\n",
      "[[-0.5924806   0.43279337 -0.47367361 ... -0.48204268 -0.30756234\n",
      "   0.61930636]\n",
      " [ 0.63878901  0.43279337 -0.47367361 ...  2.0745051  -0.30756234\n",
      "  -1.61470971]\n",
      " [-0.2846632  -0.4745452  -0.47367361 ... -0.48204268 -0.30756234\n",
      "   0.61930636]\n",
      " ...\n",
      " [ 0.          0.43279337  2.00893337 ... -0.48204268 -0.30756234\n",
      "   0.61930636]\n",
      " [-0.2846632  -0.4745452  -0.47367361 ...  2.0745051  -0.30756234\n",
      "  -1.61470971]\n",
      " [ 0.17706291 -0.4745452  -0.47367361 ... -0.48204268  3.25137334\n",
      "  -1.61470971]]\n",
      "Age           13.002015\n",
      "SibSp          1.102743\n",
      "Parch          0.806057\n",
      "Fare          49.693429\n",
      "Sex_female     0.477990\n",
      "Sex_male       0.477990\n",
      "Emabrked_C     0.391372\n",
      "Emabrked_Q     0.281141\n",
      "Emabrked_S     0.447876\n",
      "dtype: float64\n",
      "1.0\n"
     ]
    }
   ],
   "source": [
    "# Be careful. Do not use normalizer of sklearn\n",
    "from sklearn.preprocessing import StandardScaler\n",
    "scaler = StandardScaler()\n",
    "\n",
    "labels = selected_df[\"Survived\"]\n",
    "features = selected_df.drop(\"Survived\", axis=1)\n",
    "\n",
    "scaler.fit(features)\n",
    "scaled_features = scaler.transform(features)\n",
    "\n",
    "print(features)\n",
    "print(scaled_features)\n",
    "\n",
    "print(features.std())\n",
    "print(scaled_features.std())"
   ]
  },
  {
   "cell_type": "markdown",
   "metadata": {},
   "source": [
    "### 3-2 Splitting data set into train data and test data."
   ]
  },
  {
   "cell_type": "code",
   "execution_count": 22,
   "metadata": {
    "collapsed": true
   },
   "outputs": [],
   "source": [
    "from sklearn.model_selection import train_test_split\n",
    "x_train, x_test, y_train, y_test = train_test_split(scaled_features, labels, random_state=20180408, test_size=0.3)"
   ]
  },
  {
   "cell_type": "code",
   "execution_count": 23,
   "metadata": {
    "collapsed": false
   },
   "outputs": [
    {
     "name": "stdout",
     "output_type": "stream",
     "text": [
      "623\n",
      "623\n",
      "268\n",
      "268\n"
     ]
    }
   ],
   "source": [
    "print(len(x_train))\n",
    "print(len(y_train))\n",
    "print(len(x_test))\n",
    "print(len(y_test))"
   ]
  },
  {
   "cell_type": "markdown",
   "metadata": {},
   "source": [
    "### 3-3 Selection models\n",
    " - Logistic regression\n",
    " - Random forest\n",
    " - SVM"
   ]
  },
  {
   "cell_type": "code",
   "execution_count": 24,
   "metadata": {
    "collapsed": true
   },
   "outputs": [],
   "source": [
    "from sklearn.metrics import accuracy_score, classification_report"
   ]
  },
  {
   "cell_type": "markdown",
   "metadata": {},
   "source": [
    "> **Logistic regression**"
   ]
  },
  {
   "cell_type": "code",
   "execution_count": 25,
   "metadata": {
    "collapsed": false
   },
   "outputs": [
    {
     "data": {
      "text/plain": [
       "LogisticRegression(C=1.0, class_weight=None, dual=False, fit_intercept=True,\n",
       "          intercept_scaling=1, max_iter=100, multi_class='ovr', n_jobs=1,\n",
       "          penalty='l2', random_state=None, solver='liblinear', tol=0.0001,\n",
       "          verbose=0, warm_start=False)"
      ]
     },
     "execution_count": 25,
     "metadata": {},
     "output_type": "execute_result"
    }
   ],
   "source": [
    "from sklearn.linear_model import LogisticRegression\n",
    "\n",
    "# 1. Model fitting\n",
    "logistic_model = LogisticRegression()\n",
    "logistic_model.fit(x_train, y_train)"
   ]
  },
  {
   "cell_type": "code",
   "execution_count": 26,
   "metadata": {
    "collapsed": true
   },
   "outputs": [],
   "source": [
    "# 2. Prediction\n",
    "logistic_pred = logistic_model.predict(x_test)"
   ]
  },
  {
   "cell_type": "code",
   "execution_count": 27,
   "metadata": {
    "collapsed": false
   },
   "outputs": [
    {
     "name": "stdout",
     "output_type": "stream",
     "text": [
      "0.7723880597014925\n",
      "             precision    recall  f1-score   support\n",
      "\n",
      "          0       0.81      0.83      0.82       166\n",
      "          1       0.71      0.68      0.69       102\n",
      "\n",
      "avg / total       0.77      0.77      0.77       268\n",
      "\n"
     ]
    }
   ],
   "source": [
    "# 3. Accuracy\n",
    "print(accuracy_score(y_test, logistic_pred))\n",
    "print(classification_report(y_test, logistic_pred))"
   ]
  },
  {
   "cell_type": "markdown",
   "metadata": {},
   "source": [
    "> **Random forest**"
   ]
  },
  {
   "cell_type": "code",
   "execution_count": 28,
   "metadata": {
    "collapsed": false
   },
   "outputs": [
    {
     "data": {
      "text/plain": [
       "RandomForestClassifier(bootstrap=True, class_weight=None, criterion='gini',\n",
       "            max_depth=None, max_features='auto', max_leaf_nodes=None,\n",
       "            min_impurity_decrease=0.0, min_impurity_split=None,\n",
       "            min_samples_leaf=1, min_samples_split=2,\n",
       "            min_weight_fraction_leaf=0.0, n_estimators=10, n_jobs=1,\n",
       "            oob_score=False, random_state=None, verbose=0,\n",
       "            warm_start=False)"
      ]
     },
     "execution_count": 28,
     "metadata": {},
     "output_type": "execute_result"
    }
   ],
   "source": [
    "from sklearn.ensemble import RandomForestClassifier\n",
    "\n",
    "# 1. Model fitting\n",
    "random_forest_model = RandomForestClassifier()\n",
    "random_forest_model.fit(x_train, y_train)"
   ]
  },
  {
   "cell_type": "code",
   "execution_count": 29,
   "metadata": {
    "collapsed": true
   },
   "outputs": [],
   "source": [
    "# 2. Prediction\n",
    "random_forest_pred = random_forest_model.predict(x_test)"
   ]
  },
  {
   "cell_type": "code",
   "execution_count": 30,
   "metadata": {
    "collapsed": false
   },
   "outputs": [
    {
     "name": "stdout",
     "output_type": "stream",
     "text": [
      "0.7835820895522388\n",
      "             precision    recall  f1-score   support\n",
      "\n",
      "          0       0.81      0.86      0.83       166\n",
      "          1       0.74      0.67      0.70       102\n",
      "\n",
      "avg / total       0.78      0.78      0.78       268\n",
      "\n"
     ]
    }
   ],
   "source": [
    "# 3. Accuracy\n",
    "print(accuracy_score(y_test, random_forest_pred))\n",
    "print(classification_report(y_test, random_forest_pred))"
   ]
  },
  {
   "cell_type": "markdown",
   "metadata": {},
   "source": [
    "> **SVM**"
   ]
  },
  {
   "cell_type": "code",
   "execution_count": 31,
   "metadata": {
    "collapsed": false
   },
   "outputs": [
    {
     "data": {
      "text/plain": [
       "SVC(C=1.0, cache_size=200, class_weight=None, coef0=0.0,\n",
       "  decision_function_shape='ovr', degree=3, gamma='auto', kernel='rbf',\n",
       "  max_iter=-1, probability=False, random_state=None, shrinking=True,\n",
       "  tol=0.001, verbose=False)"
      ]
     },
     "execution_count": 31,
     "metadata": {},
     "output_type": "execute_result"
    }
   ],
   "source": [
    "from sklearn.svm import SVC\n",
    "\n",
    "# 1. Model fitting\n",
    "svm_model = SVC()\n",
    "svm_model.fit(x_train, y_train)"
   ]
  },
  {
   "cell_type": "code",
   "execution_count": 32,
   "metadata": {
    "collapsed": true
   },
   "outputs": [],
   "source": [
    "# 2. Prediction\n",
    "svm_pred = svm_model.predict(x_test)"
   ]
  },
  {
   "cell_type": "code",
   "execution_count": 33,
   "metadata": {
    "collapsed": false
   },
   "outputs": [
    {
     "name": "stdout",
     "output_type": "stream",
     "text": [
      "0.8097014925373134\n",
      "             precision    recall  f1-score   support\n",
      "\n",
      "          0       0.83      0.87      0.85       166\n",
      "          1       0.77      0.72      0.74       102\n",
      "\n",
      "avg / total       0.81      0.81      0.81       268\n",
      "\n"
     ]
    }
   ],
   "source": [
    "# 3. Accuracy\n",
    "print(accuracy_score(y_test, svm_pred))\n",
    "print(classification_report(y_test, svm_pred))"
   ]
  },
  {
   "cell_type": "markdown",
   "metadata": {},
   "source": [
    "## 4. Modeling with dimension reduction"
   ]
  },
  {
   "cell_type": "code",
   "execution_count": 34,
   "metadata": {
    "collapsed": false
   },
   "outputs": [],
   "source": [
    "pca = PCA(n_components=5, random_state=20180408)\n",
    "pca.fit(selected_df.drop(\"Survived\", axis=1))\n",
    "\n",
    "reduced_features = pca.transform(selected_df.drop(\"Survived\", axis=1))"
   ]
  },
  {
   "cell_type": "code",
   "execution_count": 35,
   "metadata": {
    "collapsed": false
   },
   "outputs": [],
   "source": [
    "scaler.fit(reduced_features)\n",
    "scaled_reduced_features = scaler.transform(reduced_features)"
   ]
  },
  {
   "cell_type": "code",
   "execution_count": 36,
   "metadata": {
    "collapsed": false
   },
   "outputs": [],
   "source": [
    "x_r_train, x_r_test, y_r_train, y_r_test =\\\n",
    "train_test_split(scaled_reduced_features, labels, random_state=20180408, test_size=0.3)"
   ]
  },
  {
   "cell_type": "markdown",
   "metadata": {},
   "source": [
    "> **SVM**"
   ]
  },
  {
   "cell_type": "code",
   "execution_count": 37,
   "metadata": {
    "collapsed": false
   },
   "outputs": [
    {
     "data": {
      "text/plain": [
       "SVC(C=1.0, cache_size=200, class_weight=None, coef0=0.0,\n",
       "  decision_function_shape='ovr', degree=3, gamma='auto', kernel='rbf',\n",
       "  max_iter=-1, probability=False, random_state=None, shrinking=True,\n",
       "  tol=0.001, verbose=False)"
      ]
     },
     "execution_count": 37,
     "metadata": {},
     "output_type": "execute_result"
    }
   ],
   "source": [
    "# 1. Model fitting\n",
    "svm_model_r = SVC()\n",
    "svm_model_r.fit(x_r_train, y_r_train)"
   ]
  },
  {
   "cell_type": "code",
   "execution_count": 38,
   "metadata": {
    "collapsed": true
   },
   "outputs": [],
   "source": [
    "# 2. Prediction\n",
    "svm_r_pred = svm_model_r.predict(x_r_test)"
   ]
  },
  {
   "cell_type": "code",
   "execution_count": 39,
   "metadata": {
    "collapsed": false
   },
   "outputs": [
    {
     "name": "stdout",
     "output_type": "stream",
     "text": [
      "0.8022388059701493\n",
      "             precision    recall  f1-score   support\n",
      "\n",
      "          0       0.83      0.86      0.84       166\n",
      "          1       0.76      0.71      0.73       102\n",
      "\n",
      "avg / total       0.80      0.80      0.80       268\n",
      "\n"
     ]
    }
   ],
   "source": [
    "# 3. Accuracy\n",
    "print(accuracy_score(y_r_test, svm_r_pred))\n",
    "print(classification_report(y_r_test, svm_r_pred))"
   ]
  },
  {
   "cell_type": "markdown",
   "metadata": {},
   "source": [
    "## 5. Prepare submit"
   ]
  },
  {
   "cell_type": "markdown",
   "metadata": {},
   "source": [
    "### 5-1 Non PCA"
   ]
  },
  {
   "cell_type": "code",
   "execution_count": 40,
   "metadata": {
    "collapsed": false
   },
   "outputs": [],
   "source": [
    "test_set = pd.read_csv('./input/test.csv')"
   ]
  },
  {
   "cell_type": "code",
   "execution_count": 41,
   "metadata": {
    "collapsed": false
   },
   "outputs": [
    {
     "data": {
      "text/html": [
       "<div>\n",
       "<style scoped>\n",
       "    .dataframe tbody tr th:only-of-type {\n",
       "        vertical-align: middle;\n",
       "    }\n",
       "\n",
       "    .dataframe tbody tr th {\n",
       "        vertical-align: top;\n",
       "    }\n",
       "\n",
       "    .dataframe thead th {\n",
       "        text-align: right;\n",
       "    }\n",
       "</style>\n",
       "<table border=\"1\" class=\"dataframe\">\n",
       "  <thead>\n",
       "    <tr style=\"text-align: right;\">\n",
       "      <th></th>\n",
       "      <th>Age</th>\n",
       "      <th>SibSp</th>\n",
       "      <th>Parch</th>\n",
       "      <th>Fare</th>\n",
       "      <th>Sex_female</th>\n",
       "      <th>Sex_male</th>\n",
       "      <th>Emabrked_C</th>\n",
       "      <th>Emabrked_Q</th>\n",
       "      <th>Emabrked_S</th>\n",
       "    </tr>\n",
       "  </thead>\n",
       "  <tbody>\n",
       "    <tr>\n",
       "      <th>count</th>\n",
       "      <td>332.000000</td>\n",
       "      <td>418.000000</td>\n",
       "      <td>418.000000</td>\n",
       "      <td>417.000000</td>\n",
       "      <td>418.000000</td>\n",
       "      <td>418.000000</td>\n",
       "      <td>418.000000</td>\n",
       "      <td>418.000000</td>\n",
       "      <td>418.000000</td>\n",
       "    </tr>\n",
       "    <tr>\n",
       "      <th>mean</th>\n",
       "      <td>30.272590</td>\n",
       "      <td>0.447368</td>\n",
       "      <td>0.392344</td>\n",
       "      <td>35.627188</td>\n",
       "      <td>0.363636</td>\n",
       "      <td>0.636364</td>\n",
       "      <td>0.244019</td>\n",
       "      <td>0.110048</td>\n",
       "      <td>0.645933</td>\n",
       "    </tr>\n",
       "    <tr>\n",
       "      <th>std</th>\n",
       "      <td>14.181209</td>\n",
       "      <td>0.896760</td>\n",
       "      <td>0.981429</td>\n",
       "      <td>55.907576</td>\n",
       "      <td>0.481622</td>\n",
       "      <td>0.481622</td>\n",
       "      <td>0.430019</td>\n",
       "      <td>0.313324</td>\n",
       "      <td>0.478803</td>\n",
       "    </tr>\n",
       "    <tr>\n",
       "      <th>min</th>\n",
       "      <td>0.170000</td>\n",
       "      <td>0.000000</td>\n",
       "      <td>0.000000</td>\n",
       "      <td>0.000000</td>\n",
       "      <td>0.000000</td>\n",
       "      <td>0.000000</td>\n",
       "      <td>0.000000</td>\n",
       "      <td>0.000000</td>\n",
       "      <td>0.000000</td>\n",
       "    </tr>\n",
       "    <tr>\n",
       "      <th>25%</th>\n",
       "      <td>21.000000</td>\n",
       "      <td>0.000000</td>\n",
       "      <td>0.000000</td>\n",
       "      <td>7.895800</td>\n",
       "      <td>0.000000</td>\n",
       "      <td>0.000000</td>\n",
       "      <td>0.000000</td>\n",
       "      <td>0.000000</td>\n",
       "      <td>0.000000</td>\n",
       "    </tr>\n",
       "    <tr>\n",
       "      <th>50%</th>\n",
       "      <td>27.000000</td>\n",
       "      <td>0.000000</td>\n",
       "      <td>0.000000</td>\n",
       "      <td>14.454200</td>\n",
       "      <td>0.000000</td>\n",
       "      <td>1.000000</td>\n",
       "      <td>0.000000</td>\n",
       "      <td>0.000000</td>\n",
       "      <td>1.000000</td>\n",
       "    </tr>\n",
       "    <tr>\n",
       "      <th>75%</th>\n",
       "      <td>39.000000</td>\n",
       "      <td>1.000000</td>\n",
       "      <td>0.000000</td>\n",
       "      <td>31.500000</td>\n",
       "      <td>1.000000</td>\n",
       "      <td>1.000000</td>\n",
       "      <td>0.000000</td>\n",
       "      <td>0.000000</td>\n",
       "      <td>1.000000</td>\n",
       "    </tr>\n",
       "    <tr>\n",
       "      <th>max</th>\n",
       "      <td>76.000000</td>\n",
       "      <td>8.000000</td>\n",
       "      <td>9.000000</td>\n",
       "      <td>512.329200</td>\n",
       "      <td>1.000000</td>\n",
       "      <td>1.000000</td>\n",
       "      <td>1.000000</td>\n",
       "      <td>1.000000</td>\n",
       "      <td>1.000000</td>\n",
       "    </tr>\n",
       "  </tbody>\n",
       "</table>\n",
       "</div>"
      ],
      "text/plain": [
       "              Age       SibSp       Parch        Fare  Sex_female    Sex_male  \\\n",
       "count  332.000000  418.000000  418.000000  417.000000  418.000000  418.000000   \n",
       "mean    30.272590    0.447368    0.392344   35.627188    0.363636    0.636364   \n",
       "std     14.181209    0.896760    0.981429   55.907576    0.481622    0.481622   \n",
       "min      0.170000    0.000000    0.000000    0.000000    0.000000    0.000000   \n",
       "25%     21.000000    0.000000    0.000000    7.895800    0.000000    0.000000   \n",
       "50%     27.000000    0.000000    0.000000   14.454200    0.000000    1.000000   \n",
       "75%     39.000000    1.000000    0.000000   31.500000    1.000000    1.000000   \n",
       "max     76.000000    8.000000    9.000000  512.329200    1.000000    1.000000   \n",
       "\n",
       "       Emabrked_C  Emabrked_Q  Emabrked_S  \n",
       "count  418.000000  418.000000  418.000000  \n",
       "mean     0.244019    0.110048    0.645933  \n",
       "std      0.430019    0.313324    0.478803  \n",
       "min      0.000000    0.000000    0.000000  \n",
       "25%      0.000000    0.000000    0.000000  \n",
       "50%      0.000000    0.000000    1.000000  \n",
       "75%      0.000000    0.000000    1.000000  \n",
       "max      1.000000    1.000000    1.000000  "
      ]
     },
     "execution_count": 41,
     "metadata": {},
     "output_type": "execute_result"
    }
   ],
   "source": [
    "temp_df = test_set[[\"Sex\", \"Age\", \"SibSp\", \"Parch\", \"Fare\", \"Embarked\"]]\n",
    "selected_test_df = pd.get_dummies(temp_df, categorical_features)\n",
    "\n",
    "selected_test_df.describe()"
   ]
  },
  {
   "cell_type": "code",
   "execution_count": 42,
   "metadata": {
    "collapsed": false
   },
   "outputs": [],
   "source": [
    "# Fill NaN\n",
    "selected_test_df[\"Age\"] = selected_test_df[\"Age\"].fillna(selected_test_df[\"Age\"].mean())\n",
    "selected_test_df[\"Fare\"] = selected_test_df[\"Fare\"].fillna(selected_test_df[\"Fare\"].mean())"
   ]
  },
  {
   "cell_type": "code",
   "execution_count": 43,
   "metadata": {
    "collapsed": true
   },
   "outputs": [],
   "source": [
    "scaler.fit(selected_test_df)\n",
    "scaled_test_features = scaler.transform(selected_test_df)"
   ]
  },
  {
   "cell_type": "code",
   "execution_count": 44,
   "metadata": {
    "collapsed": false
   },
   "outputs": [],
   "source": [
    "# Logistic\n",
    "logistic_test_pred = logistic_model.predict(scaled_test_features)\n",
    "# Random Forest\n",
    "random_forest_test_pred = random_forest_model.predict(scaled_test_features)\n",
    "#SVM\n",
    "svm_test_pred = svm_model.predict(scaled_test_features)"
   ]
  },
  {
   "cell_type": "code",
   "execution_count": 45,
   "metadata": {
    "collapsed": false
   },
   "outputs": [],
   "source": [
    "logistic_submission = pd.DataFrame({'PassengerId':range(892, 1310), 'Survived': logistic_test_pred})\n",
    "logistic_submission.to_csv('logistic_submission.csv', index=False)\n",
    "\n",
    "random_forest_submission = pd.DataFrame({'PassengerId':range(892, 1310), 'Survived': random_forest_test_pred})\n",
    "random_forest_submission.to_csv('random_forest_submission.csv', index=False)\n",
    "\n",
    "svm_submission = pd.DataFrame({'PassengerId':range(892, 1310), 'Survived': svm_test_pred})\n",
    "svm_submission.to_csv('svm_submission.csv', index=False)"
   ]
  },
  {
   "cell_type": "code",
   "execution_count": 46,
   "metadata": {
    "collapsed": false
   },
   "outputs": [
    {
     "data": {
      "text/plain": [
       "SVC(C=1.0, cache_size=200, class_weight=None, coef0=0.0,\n",
       "  decision_function_shape='ovr', degree=3, gamma='auto', kernel='rbf',\n",
       "  max_iter=-1, probability=False, random_state=None, shrinking=True,\n",
       "  tol=0.001, verbose=False)"
      ]
     },
     "execution_count": 46,
     "metadata": {},
     "output_type": "execute_result"
    }
   ],
   "source": [
    "# using PCA\n",
    "reduced_test_features = pca.transform(selected_test_df)\n",
    "scaler.fit(reduced_test_features)\n",
    "scaled_reduced_features = scaler.transform(reduced_test_features)\n",
    "\n",
    "svm_model_2 = SVC()\n",
    "svm_model_2.fit(x_r_train, y_r_train)"
   ]
  },
  {
   "cell_type": "code",
   "execution_count": 47,
   "metadata": {
    "collapsed": false
   },
   "outputs": [],
   "source": [
    "svm_r_test_pred = svm_model_2.predict(scaled_reduced_features)\n",
    "\n",
    "svm_pca_submission = pd.DataFrame({'PassengerId':range(892, 1310), 'Survived': svm_r_test_pred})\n",
    "svm_pca_submission.to_csv('svm_pca_submission.csv', index=False)"
   ]
  }
 ],
 "metadata": {
  "anaconda-cloud": {},
  "kernelspec": {
   "display_name": "Python [conda env:anaconda3]",
   "language": "python",
   "name": "conda-env-anaconda3-py"
  },
  "language_info": {
   "codemirror_mode": {
    "name": "ipython",
    "version": 3
   },
   "file_extension": ".py",
   "mimetype": "text/x-python",
   "name": "python",
   "nbconvert_exporter": "python",
   "pygments_lexer": "ipython3",
   "version": "3.6.4"
  }
 },
 "nbformat": 4,
 "nbformat_minor": 2
}
